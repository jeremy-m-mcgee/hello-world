{
 "cells": [
  {
   "cell_type": "code",
   "execution_count": 4,
   "metadata": {
    "collapsed": false
   },
   "outputs": [
    {
     "data": {
      "text/html": [
       "<table>\n",
       "<thead><tr><th></th><th scope=col>X</th><th scope=col>TV</th><th scope=col>Radio</th><th scope=col>Newspaper</th><th scope=col>Sales</th></tr></thead>\n",
       "<tbody>\n",
       "\t<tr><th scope=row>1</th><td>1</td><td>230.1</td><td>37.8</td><td>69.2</td><td>22.1</td></tr>\n",
       "\t<tr><th scope=row>2</th><td>2</td><td>44.5</td><td>39.3</td><td>45.1</td><td>10.4</td></tr>\n",
       "\t<tr><th scope=row>3</th><td>3</td><td>17.2</td><td>45.9</td><td>69.3</td><td>9.3</td></tr>\n",
       "\t<tr><th scope=row>4</th><td>4</td><td>151.5</td><td>41.3</td><td>58.5</td><td>18.5</td></tr>\n",
       "\t<tr><th scope=row>5</th><td>5</td><td>180.8</td><td>10.8</td><td>58.4</td><td>12.9</td></tr>\n",
       "\t<tr><th scope=row>6</th><td>6</td><td>8.7</td><td>48.9</td><td>75</td><td>7.2</td></tr>\n",
       "</tbody>\n",
       "</table>\n"
      ],
      "text/latex": [
       "\\begin{tabular}{r|lllll}\n",
       "  & X & TV & Radio & Newspaper & Sales\\\\\n",
       "\\hline\n",
       "\t1 & 1 & 230.1 & 37.8 & 69.2 & 22.1\\\\\n",
       "\t2 & 2 & 44.5 & 39.3 & 45.1 & 10.4\\\\\n",
       "\t3 & 3 & 17.2 & 45.9 & 69.3 & 9.3\\\\\n",
       "\t4 & 4 & 151.5 & 41.3 & 58.5 & 18.5\\\\\n",
       "\t5 & 5 & 180.8 & 10.8 & 58.4 & 12.9\\\\\n",
       "\t6 & 6 & 8.7 & 48.9 & 75 & 7.2\\\\\n",
       "\\end{tabular}\n"
      ],
      "text/plain": [
       "  X    TV Radio Newspaper Sales\n",
       "1 1 230.1  37.8      69.2  22.1\n",
       "2 2  44.5  39.3      45.1  10.4\n",
       "3 3  17.2  45.9      69.3   9.3\n",
       "4 4 151.5  41.3      58.5  18.5\n",
       "5 5 180.8  10.8      58.4  12.9\n",
       "6 6   8.7  48.9      75.0   7.2"
      ]
     },
     "execution_count": 4,
     "metadata": {},
     "output_type": "execute_result"
    }
   ],
   "source": [
    "data <- read.csv('Advertising.csv')\n",
    "head(data)"
   ]
  },
  {
   "cell_type": "code",
   "execution_count": 5,
   "metadata": {
    "collapsed": false
   },
   "outputs": [
    {
     "data": {
      "text/plain": [
       "\n",
       "Call:\n",
       "lm(formula = Sales ~ TV + Radio, data = data)\n",
       "\n",
       "Residuals:\n",
       "    Min      1Q  Median      3Q     Max \n",
       "-8.7977 -0.8752  0.2422  1.1708  2.8328 \n",
       "\n",
       "Coefficients:\n",
       "            Estimate Std. Error t value Pr(>|t|)    \n",
       "(Intercept)  2.92110    0.29449   9.919   <2e-16 ***\n",
       "TV           0.04575    0.00139  32.909   <2e-16 ***\n",
       "Radio        0.18799    0.00804  23.382   <2e-16 ***\n",
       "---\n",
       "Signif. codes:  0 ‘***’ 0.001 ‘**’ 0.01 ‘*’ 0.05 ‘.’ 0.1 ‘ ’ 1\n",
       "\n",
       "Residual standard error: 1.681 on 197 degrees of freedom\n",
       "Multiple R-squared:  0.8972,\tAdjusted R-squared:  0.8962 \n",
       "F-statistic: 859.6 on 2 and 197 DF,  p-value: < 2.2e-16\n"
      ]
     },
     "execution_count": 5,
     "metadata": {},
     "output_type": "execute_result"
    }
   ],
   "source": [
    "model = lm(Sales ~ TV + Radio, data=data)\n",
    "summary(model)"
   ]
  },
  {
   "cell_type": "code",
   "execution_count": 6,
   "metadata": {
    "collapsed": false
   },
   "outputs": [],
   "source": [
    "null = lm(Sales ~ 1, data=data)\n",
    "full = lm(Sales ~., data=data)"
   ]
  },
  {
   "cell_type": "code",
   "execution_count": 7,
   "metadata": {
    "collapsed": false
   },
   "outputs": [
    {
     "name": "stdout",
     "output_type": "stream",
     "text": [
      "Start:  AIC=661.8\n",
      "Sales ~ 1\n",
      "\n",
      "            Df Sum of Sq    RSS    AIC\n",
      "+ TV         1    3314.6 2102.5 474.52\n",
      "+ Radio      1    1798.7 3618.5 583.10\n",
      "+ Newspaper  1     282.3 5134.8 653.10\n",
      "<none>                   5417.1 661.80\n",
      "+ X          1      14.4 5402.7 663.27\n",
      "\n",
      "Step:  AIC=474.52\n",
      "Sales ~ TV\n",
      "\n",
      "            Df Sum of Sq     RSS    AIC\n",
      "+ Radio      1   1545.62  556.91 210.82\n",
      "+ Newspaper  1    183.97 1918.56 458.20\n",
      "+ X          1     23.23 2079.30 474.29\n",
      "<none>                   2102.53 474.52\n",
      "\n",
      "Step:  AIC=210.82\n",
      "Sales ~ TV + Radio\n",
      "\n",
      "            Df Sum of Sq    RSS    AIC\n",
      "<none>                   556.91 210.82\n",
      "+ X          1  0.181080 556.73 212.75\n",
      "+ Newspaper  1  0.088717 556.83 212.79\n"
     ]
    },
    {
     "data": {
      "text/plain": [
       "\n",
       "Call:\n",
       "lm(formula = Sales ~ TV + Radio, data = data)\n",
       "\n",
       "Coefficients:\n",
       "(Intercept)           TV        Radio  \n",
       "    2.92110      0.04575      0.18799  \n"
      ]
     },
     "execution_count": 7,
     "metadata": {},
     "output_type": "execute_result"
    }
   ],
   "source": [
    "step(null, scope=list(lower=null, upper=full), direction=\"forward\")"
   ]
  }
 ],
 "metadata": {
  "kernelspec": {
   "display_name": "R",
   "language": "R",
   "name": "ir"
  },
  "language_info": {
   "codemirror_mode": "r",
   "file_extension": ".r",
   "mimetype": "text/x-r-source",
   "name": "R",
   "pygments_lexer": "r",
   "version": "3.2.2"
  }
 },
 "nbformat": 4,
 "nbformat_minor": 0
}
