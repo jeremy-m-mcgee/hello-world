{
 "cells": [
  {
   "cell_type": "code",
   "execution_count": 13,
   "metadata": {
    "collapsed": false
   },
   "outputs": [],
   "source": [
    "import requests, json, pandas as pd, numpy as np\n",
    "import matplotlib.pyplot as plt\n",
    "import statsmodels.formula.api as smf\n",
    "import sklearn as sk\n",
    "from sklearn.linear_model import MultiTaskLassoCV, LassoCV\n",
    "import math\n",
    "from sklearn.cross_validation import train_test_split\n",
    "import rpy2.robjects as ro"
   ]
  },
  {
   "cell_type": "code",
   "execution_count": 6,
   "metadata": {
    "collapsed": false
   },
   "outputs": [
    {
     "data": {
      "text/plain": [
       "R object with classes: ('numeric',) mapped to:\n",
       "<FloatVector - Python:0x10d596b08 / R:0x101dfbe48>\n",
       "[2.000000, 4.000000, 6.000000, 8.000000]"
      ]
     },
     "execution_count": 6,
     "metadata": {},
     "output_type": "execute_result"
    }
   ],
   "source": [
    "ro.r('x=c(2,4,6,8)')"
   ]
  },
  {
   "cell_type": "markdown",
   "metadata": {},
   "source": [
    "The basic premise: Brilliant Earth is a purveyor of ethically sourced, non-conflict diamonds... or so they claim. There are a dizzying number of combinations of diamond qualities (Color, Cut, Carat, Clarity, Shape) and it's unclear how these all relate to the final price of the diamond. My goal was to develop a multiple linear regression to determine the relationship between the 4Cs and the price of the diamond.\n",
    "\n",
    "Luckily Brilliant Earth's API is public and reasonably well maintained (and doesn't include any rate-limiting). Getting the  API URL and response structure is trivial, as was the regression modeling. There are also well documented  libraries in Python to quickly conduct linear regression and output model characteristics. Note - the goal for this was *not* prediction of price, only inference and learning.\n",
    "\n",
    "Future applicaitons might consider more advanced statistical methods, but didn't have time for that before sharing."
   ]
  },
  {
   "cell_type": "code",
   "execution_count": 2,
   "metadata": {
    "collapsed": false
   },
   "outputs": [],
   "source": [
    "#Brilliant Earth API call. Some filtering based on my original search, but this pulls about 5000 of BE's diamonds. Can easily use the dev tools setting in chrome to find out where this is. Not going to document here.\n",
    "\n",
    "url_round = \"http://www.brilliantearth.com/loose-diamonds/list/?shapes=Round&cuts=Fair%2CGood%2CVery+Good%2CIdeal%2CSuper+Ideal&colors=J%2CI%2CH%2CG%2CF%2CE%2CD&clarities=SI2%2CSI1%2CVS2%2CVS1%2CVVS2%2CVVS1%2CIF%2CFL&polishes=Good%2CVery+Good%2CExcellent&symmetries=Good%2CVery+Good%2CExcellent&fluorescences=Very+Strong%2CStrong%2CMedium%2CFaint%2CNone&min_carat=0.5&max_carat=18.75&min_table=45.00&max_table=85.00&min_depth=0.00&max_depth=83.10&min_price=530&max_price=2559240&stock_number=&row=0&page=1&requestedDataSize=10000&order_by=price&order_method=asc&currency=%24&min_ratio=1.00&max_ratio=2.75&shipping_day=&MIN_PRICE=530&MAX_PRICE=2559240&MIN_CARAT=0.25&MAX_CARAT=18.75&MIN_TABLE=45&MAX_TABLE=85&MIN_DEPTH=0&MAX_DEPTH=83.1\"\n",
    "url_oval = \"http://www.brilliantearth.com/loose-diamonds/list/?shapes=Oval&cuts=Fair%2CGood%2CVery+Good%2CIdeal%2CSuper+Ideal&colors=J%2CI%2CH%2CG%2CF%2CE%2CD&clarities=SI2%2CSI1%2CVS2%2CVS1%2CVVS2%2CVVS1%2CIF%2CFL&polishes=Good%2CVery+Good%2CExcellent&symmetries=Good%2CVery+Good%2CExcellent&fluorescences=Very+Strong%2CStrong%2CMedium%2CFaint%2CNone&min_carat=0.5&max_carat=18.75&min_table=45.00&max_table=85.00&min_depth=0.00&max_depth=83.10&min_price=530&max_price=2559240&stock_number=&row=0&page=1&requestedDataSize=10000&order_by=price&order_method=asc&currency=%24&min_ratio=1.00&max_ratio=2.75&shipping_day=&MIN_PRICE=530&MAX_PRICE=2559240&MIN_CARAT=0.25&MAX_CARAT=18.75&MIN_TABLE=45&MAX_TABLE=85&MIN_DEPTH=0&MAX_DEPTH=83.1\"\n",
    "url_asscher = \"http://www.brilliantearth.com/loose-diamonds/list/?shapes=Asscher&cuts=Fair%2CGood%2CVery+Good%2CIdeal%2CSuper+Ideal&colors=J%2CI%2CH%2CG%2CF%2CE%2CD&clarities=SI2%2CSI1%2CVS2%2CVS1%2CVVS2%2CVVS1%2CIF%2CFL&polishes=Good%2CVery+Good%2CExcellent&symmetries=Good%2CVery+Good%2CExcellent&fluorescences=Very+Strong%2CStrong%2CMedium%2CFaint%2CNone&min_carat=0.5&max_carat=18.75&min_table=45.00&max_table=85.00&min_depth=0.00&max_depth=83.10&min_price=530&max_price=2559240&stock_number=&row=0&page=1&requestedDataSize=10000&order_by=price&order_method=asc&currency=%24&min_ratio=1.00&max_ratio=2.75&shipping_day=&MIN_PRICE=530&MAX_PRICE=2559240&MIN_CARAT=0.25&MAX_CARAT=18.75&MIN_TABLE=45&MAX_TABLE=85&MIN_DEPTH=0&MAX_DEPTH=83.1\"\n",
    "url_cushion = \"http://www.brilliantearth.com/loose-diamonds/list/?shapes=Cushion&cuts=Fair%2CGood%2CVery+Good%2CIdeal%2CSuper+Ideal&colors=J%2CI%2CH%2CG%2CF%2CE%2CD&clarities=SI2%2CSI1%2CVS2%2CVS1%2CVVS2%2CVVS1%2CIF%2CFL&polishes=Good%2CVery+Good%2CExcellent&symmetries=Good%2CVery+Good%2CExcellent&fluorescences=Very+Strong%2CStrong%2CMedium%2CFaint%2CNone&min_carat=0.5&max_carat=18.75&min_table=45.00&max_table=85.00&min_depth=0.00&max_depth=83.10&min_price=530&max_price=2559240&stock_number=&row=0&page=1&requestedDataSize=10000&order_by=price&order_method=asc&currency=%24&min_ratio=1.00&max_ratio=2.75&shipping_day=&MIN_PRICE=530&MAX_PRICE=2559240&MIN_CARAT=0.25&MAX_CARAT=18.75&MIN_TABLE=45&MAX_TABLE=85&MIN_DEPTH=0&MAX_DEPTH=83.1\"\n",
    "url_princess = \"http://www.brilliantearth.com/loose-diamonds/list/?shapes=Princess&cuts=Fair%2CGood%2CVery+Good%2CIdeal%2CSuper+Ideal&colors=J%2CI%2CH%2CG%2CF%2CE%2CD&clarities=SI2%2CSI1%2CVS2%2CVS1%2CVVS2%2CVVS1%2CIF%2CFL&polishes=Good%2CVery+Good%2CExcellent&symmetries=Good%2CVery+Good%2CExcellent&fluorescences=Very+Strong%2CStrong%2CMedium%2CFaint%2CNone&min_carat=0.5&max_carat=18.75&min_table=45.00&max_table=85.00&min_depth=0.00&max_depth=83.10&min_price=530&max_price=2559240&stock_number=&row=0&page=1&requestedDataSize=10000&order_by=price&order_method=asc&currency=%24&min_ratio=1.00&max_ratio=2.75&shipping_day=&MIN_PRICE=530&MAX_PRICE=2559240&MIN_CARAT=0.25&MAX_CARAT=18.75&MIN_TABLE=45&MAX_TABLE=85&MIN_DEPTH=0&MAX_DEPTH=83.1\"\n",
    "url_pear = \"http://www.brilliantearth.com/loose-diamonds/list/?shapes=Pear&cuts=Fair%2CGood%2CVery+Good%2CIdeal%2CSuper+Ideal&colors=J%2CI%2CH%2CG%2CF%2CE%2CD&clarities=SI2%2CSI1%2CVS2%2CVS1%2CVVS2%2CVVS1%2CIF%2CFL&polishes=Good%2CVery+Good%2CExcellent&symmetries=Good%2CVery+Good%2CExcellent&fluorescences=Very+Strong%2CStrong%2CMedium%2CFaint%2CNone&min_carat=0.5&max_carat=18.75&min_table=45.00&max_table=85.00&min_depth=0.00&max_depth=83.10&min_price=530&max_price=2559240&stock_number=&row=0&page=1&requestedDataSize=10000&order_by=price&order_method=asc&currency=%24&min_ratio=1.00&max_ratio=2.75&shipping_day=&MIN_PRICE=530&MAX_PRICE=2559240&MIN_CARAT=0.25&MAX_CARAT=18.75&MIN_TABLE=45&MAX_TABLE=85&MIN_DEPTH=0&MAX_DEPTH=83.1\"\n",
    "url_emerald = \"http://www.brilliantearth.com/loose-diamonds/list/?shapes=Emerald&cuts=Fair%2CGood%2CVery+Good%2CIdeal%2CSuper+Ideal&colors=J%2CI%2CH%2CG%2CF%2CE%2CD&clarities=SI2%2CSI1%2CVS2%2CVS1%2CVVS2%2CVVS1%2CIF%2CFL&polishes=Good%2CVery+Good%2CExcellent&symmetries=Good%2CVery+Good%2CExcellent&fluorescences=Very+Strong%2CStrong%2CMedium%2CFaint%2CNone&min_carat=0.5&max_carat=18.75&min_table=45.00&max_table=85.00&min_depth=0.00&max_depth=83.10&min_price=530&max_price=2559240&stock_number=&row=0&page=1&requestedDataSize=10000&order_by=price&order_method=asc&currency=%24&min_ratio=1.00&max_ratio=2.75&shipping_day=&MIN_PRICE=530&MAX_PRICE=2559240&MIN_CARAT=0.25&MAX_CARAT=18.75&MIN_TABLE=45&MAX_TABLE=85&MIN_DEPTH=0&MAX_DEPTH=83.1\"\n",
    "url_marquise = \"http://www.brilliantearth.com/loose-diamonds/list/?shapes=Marquise&cuts=Fair%2CGood%2CVery+Good%2CIdeal%2CSuper+Ideal&colors=J%2CI%2CH%2CG%2CF%2CE%2CD&clarities=SI2%2CSI1%2CVS2%2CVS1%2CVVS2%2CVVS1%2CIF%2CFL&polishes=Good%2CVery+Good%2CExcellent&symmetries=Good%2CVery+Good%2CExcellent&fluorescences=Very+Strong%2CStrong%2CMedium%2CFaint%2CNone&min_carat=0.5&max_carat=18.75&min_table=45.00&max_table=85.00&min_depth=0.00&max_depth=83.10&min_price=530&max_price=2559240&stock_number=&row=0&page=1&requestedDataSize=10000&order_by=price&order_method=asc&currency=%24&min_ratio=1.00&max_ratio=2.75&shipping_day=&MIN_PRICE=530&MAX_PRICE=2559240&MIN_CARAT=0.25&MAX_CARAT=18.75&MIN_TABLE=45&MAX_TABLE=85&MIN_DEPTH=0&MAX_DEPTH=83.1\"\n",
    "url_list = [url_oval,url_asscher,url_cushion,url_princess,url_pear, url_emerald, url_marquise,url_round]\n",
    "#url = \"http://www.brilliantearth.com/loose-diamonds/list/?shapes=Oval&cuts=Fair%2CGood%2CVery+Good%2CIdeal%2CSuper+Ideal&colors=J%2CI%2CH%2CG%2CF%2CE%2CD&clarities=SI2%2CSI1%2CVS2%2CVS1%2CVVS2%2CVVS1%2CIF%2CFL&polishes=Good%2CVery+Good%2CExcellent&symmetries=Good%2CVery+Good%2CExcellent&fluorescences=Very+Strong%2CStrong%2CMedium%2CFaint%2CNone&min_carat=1.00&max_carat=2.51&min_table=45.00&max_table=85.00&min_depth=0.00&max_depth=83.10&min_price=720&max_price=25000&stock_number=&row=0&requestedDataSize=100&order_by=price&order_method=desc&currency=%24&min_ratio=1.00&max_ratio=2.75&shipping_day=&MIN_PRICE=720&MAX_PRICE=226620&MIN_CARAT=0.3&MAX_CARAT=5.06&MIN_TABLE=45&MAX_TABLE=85&MIN_DEPTH=0&MAX_DEPTH=83.1\""
   ]
  },
  {
   "cell_type": "markdown",
   "metadata": {},
   "source": [
    "The JSON response is poorly formatted, so instead of grabbing the \"results\" item, the below code grabs the \"diamonds\" item, which contains a JSON document for each diamond in Brilliant Earth's inventory.\n"
   ]
  },
  {
   "cell_type": "markdown",
   "metadata": {},
   "source": [
    "After separating the JSON into just the 'diamond' documents, I loop through and grab each of the quantities of diamond characteristics including: \n",
    "- carat size\n",
    "- price\n",
    "- clarity (using the common diamond clarity scale)\n",
    "- color (using the common diamond color scale)\n",
    "- cut (using the common diamond cut scale)\n",
    "- shape (10 different diamond shapes)"
   ]
  },
  {
   "cell_type": "code",
   "execution_count": 3,
   "metadata": {
    "collapsed": false
   },
   "outputs": [],
   "source": [
    "carat = list()\n",
    "price = list()\n",
    "clarity = list()\n",
    "color = list()\n",
    "cut = list()\n",
    "shape = list()\n",
    "for u in url_list:\n",
    "    r = requests.get(u,timeout=1000)\n",
    "    data = json.loads(r.text)\n",
    "    diamonds = data['diamonds']\n",
    "    for i in diamonds:\n",
    "        carat.append(i['carat'])\n",
    "        price.append(i['price'])\n",
    "        clarity.append(i['clarity'])\n",
    "        color.append(i['color'])\n",
    "        cut.append(i['cut'])\n",
    "        shape.append(i['shape'])\n",
    "    "
   ]
  },
  {
   "cell_type": "markdown",
   "metadata": {},
   "source": [
    "Next we create a dataframe with all of the characteristics. Note that I modified the \"cut\"variable in order to eliminate spaces in the multi-word values. This was important to make sure the get_dummies() function created data frame column names that would be interpretable by the Statsmodel functions I used later."
   ]
  },
  {
   "cell_type": "code",
   "execution_count": 5,
   "metadata": {
    "collapsed": false
   },
   "outputs": [
    {
     "data": {
      "text/plain": [
       "(14903, 6)"
      ]
     },
     "execution_count": 5,
     "metadata": {},
     "output_type": "execute_result"
    }
   ],
   "source": [
    "df = pd.DataFrame({\"carat\": carat,\n",
    "                   \"price\" : price,\n",
    "                   \"clarity\" : clarity,\n",
    "                   \"color\" : color,\n",
    "                   \"cut\" : cut,\n",
    "                   \"shape\" : shape})\n",
    "df['cut'] = df['cut'].apply(cut_to_dummy)\n",
    "df.head()\n",
    "df.shape"
   ]
  },
  {
   "cell_type": "code",
   "execution_count": 6,
   "metadata": {
    "collapsed": false
   },
   "outputs": [
    {
     "data": {
      "text/html": [
       "<div>\n",
       "<table border=\"1\" class=\"dataframe\">\n",
       "  <thead>\n",
       "    <tr style=\"text-align: right;\">\n",
       "      <th></th>\n",
       "      <th>carat</th>\n",
       "      <th>clarity</th>\n",
       "      <th>color</th>\n",
       "      <th>cut</th>\n",
       "      <th>price</th>\n",
       "      <th>shape</th>\n",
       "    </tr>\n",
       "  </thead>\n",
       "  <tbody>\n",
       "    <tr>\n",
       "      <th>0</th>\n",
       "      <td>0.55</td>\n",
       "      <td>SI1</td>\n",
       "      <td>J</td>\n",
       "      <td>Good</td>\n",
       "      <td>1030</td>\n",
       "      <td>Oval</td>\n",
       "    </tr>\n",
       "    <tr>\n",
       "      <th>1</th>\n",
       "      <td>0.51</td>\n",
       "      <td>VS1</td>\n",
       "      <td>J</td>\n",
       "      <td>Fair</td>\n",
       "      <td>1060</td>\n",
       "      <td>Oval</td>\n",
       "    </tr>\n",
       "    <tr>\n",
       "      <th>2</th>\n",
       "      <td>0.51</td>\n",
       "      <td>SI1</td>\n",
       "      <td>I</td>\n",
       "      <td>Very_Good</td>\n",
       "      <td>1100</td>\n",
       "      <td>Oval</td>\n",
       "    </tr>\n",
       "    <tr>\n",
       "      <th>3</th>\n",
       "      <td>0.50</td>\n",
       "      <td>SI2</td>\n",
       "      <td>F</td>\n",
       "      <td>Fair</td>\n",
       "      <td>1190</td>\n",
       "      <td>Oval</td>\n",
       "    </tr>\n",
       "    <tr>\n",
       "      <th>4</th>\n",
       "      <td>0.50</td>\n",
       "      <td>SI1</td>\n",
       "      <td>H</td>\n",
       "      <td>Ideal</td>\n",
       "      <td>1210</td>\n",
       "      <td>Oval</td>\n",
       "    </tr>\n",
       "  </tbody>\n",
       "</table>\n",
       "</div>"
      ],
      "text/plain": [
       "   carat clarity color        cut  price shape\n",
       "0   0.55     SI1     J       Good   1030  Oval\n",
       "1   0.51     VS1     J       Fair   1060  Oval\n",
       "2   0.51     SI1     I  Very_Good   1100  Oval\n",
       "3   0.50     SI2     F       Fair   1190  Oval\n",
       "4   0.50     SI1     H      Ideal   1210  Oval"
      ]
     },
     "execution_count": 6,
     "metadata": {},
     "output_type": "execute_result"
    }
   ],
   "source": [
    "df.head()"
   ]
  },
  {
   "cell_type": "code",
   "execution_count": 8,
   "metadata": {
    "collapsed": false
   },
   "outputs": [
    {
     "data": {
      "text/html": [
       "<div>\n",
       "<table border=\"1\" class=\"dataframe\">\n",
       "  <thead>\n",
       "    <tr style=\"text-align: right;\">\n",
       "      <th></th>\n",
       "      <th>price</th>\n",
       "    </tr>\n",
       "  </thead>\n",
       "  <tbody>\n",
       "    <tr>\n",
       "      <th>0</th>\n",
       "      <td>1030</td>\n",
       "    </tr>\n",
       "    <tr>\n",
       "      <th>1</th>\n",
       "      <td>1060</td>\n",
       "    </tr>\n",
       "    <tr>\n",
       "      <th>2</th>\n",
       "      <td>1100</td>\n",
       "    </tr>\n",
       "    <tr>\n",
       "      <th>3</th>\n",
       "      <td>1190</td>\n",
       "    </tr>\n",
       "    <tr>\n",
       "      <th>4</th>\n",
       "      <td>1210</td>\n",
       "    </tr>\n",
       "  </tbody>\n",
       "</table>\n",
       "</div>"
      ],
      "text/plain": [
       "   price\n",
       "0   1030\n",
       "1   1060\n",
       "2   1100\n",
       "3   1190\n",
       "4   1210"
      ]
     },
     "execution_count": 8,
     "metadata": {},
     "output_type": "execute_result"
    }
   ],
   "source": [
    "data_for_regression = pd.get_dummies(df)\n",
    "\n",
    "#Drop the lowest value of dummies\n",
    "data_for_regression.drop(['clarity_SI2', 'color_H', 'cut_Fair','shape_Round'], axis = 1, inplace = True)\n",
    "pricedata = pd.DataFrame.from_dict(data_for_regression['price'])\n",
    "pricedata.to_csv('20160527-DiamondRegression-Prices.csv',index=False)\n",
    "data_for_regression.drop(['price'],axis=1,inplace=True)\n",
    "data_for_regression.to_csv('20160527-DiamondRegression.csv',index=False)\n",
    "data_for_regression.columns\n",
    "pricedata.head()"
   ]
  },
  {
   "cell_type": "code",
   "execution_count": 10,
   "metadata": {
    "collapsed": false
   },
   "outputs": [
    {
     "data": {
      "text/html": [
       "<div>\n",
       "<table border=\"1\" class=\"dataframe\">\n",
       "  <thead>\n",
       "    <tr style=\"text-align: right;\">\n",
       "      <th></th>\n",
       "      <th>price</th>\n",
       "    </tr>\n",
       "  </thead>\n",
       "  <tbody>\n",
       "    <tr>\n",
       "      <th>0</th>\n",
       "      <td>1030</td>\n",
       "    </tr>\n",
       "    <tr>\n",
       "      <th>1</th>\n",
       "      <td>1060</td>\n",
       "    </tr>\n",
       "    <tr>\n",
       "      <th>2</th>\n",
       "      <td>1100</td>\n",
       "    </tr>\n",
       "    <tr>\n",
       "      <th>3</th>\n",
       "      <td>1190</td>\n",
       "    </tr>\n",
       "    <tr>\n",
       "      <th>4</th>\n",
       "      <td>1210</td>\n",
       "    </tr>\n",
       "  </tbody>\n",
       "</table>\n",
       "</div>"
      ],
      "text/plain": [
       "   price\n",
       "0   1030\n",
       "1   1060\n",
       "2   1100\n",
       "3   1190\n",
       "4   1210"
      ]
     },
     "execution_count": 10,
     "metadata": {},
     "output_type": "execute_result"
    }
   ],
   "source": [
    "pricedata.head()"
   ]
  },
  {
   "cell_type": "markdown",
   "metadata": {},
   "source": [
    "## Lasso with Cross Validation"
   ]
  },
  {
   "cell_type": "code",
   "execution_count": 23,
   "metadata": {
    "collapsed": false
   },
   "outputs": [],
   "source": [
    "model = MultiTaskLassoCV(cv=5,fit_intercept=True).fit(data_for_regression,pricedata.values)"
   ]
  },
  {
   "cell_type": "code",
   "execution_count": 24,
   "metadata": {
    "collapsed": false
   },
   "outputs": [
    {
     "data": {
      "text/html": [
       "<div>\n",
       "<table border=\"1\" class=\"dataframe\">\n",
       "  <thead>\n",
       "    <tr style=\"text-align: right;\">\n",
       "      <th></th>\n",
       "      <th>0</th>\n",
       "    </tr>\n",
       "  </thead>\n",
       "  <tbody>\n",
       "    <tr>\n",
       "      <th>carat</th>\n",
       "      <td>17779.730823</td>\n",
       "    </tr>\n",
       "    <tr>\n",
       "      <th>clarity_FL</th>\n",
       "      <td>0.000000</td>\n",
       "    </tr>\n",
       "    <tr>\n",
       "      <th>clarity_IF</th>\n",
       "      <td>0.000000</td>\n",
       "    </tr>\n",
       "    <tr>\n",
       "      <th>clarity_SI1</th>\n",
       "      <td>-368.528830</td>\n",
       "    </tr>\n",
       "    <tr>\n",
       "      <th>clarity_VS1</th>\n",
       "      <td>0.000000</td>\n",
       "    </tr>\n",
       "    <tr>\n",
       "      <th>clarity_VS2</th>\n",
       "      <td>0.000000</td>\n",
       "    </tr>\n",
       "    <tr>\n",
       "      <th>clarity_VVS1</th>\n",
       "      <td>0.000000</td>\n",
       "    </tr>\n",
       "    <tr>\n",
       "      <th>clarity_VVS2</th>\n",
       "      <td>0.000000</td>\n",
       "    </tr>\n",
       "    <tr>\n",
       "      <th>color_D</th>\n",
       "      <td>701.506447</td>\n",
       "    </tr>\n",
       "    <tr>\n",
       "      <th>color_E</th>\n",
       "      <td>218.332605</td>\n",
       "    </tr>\n",
       "    <tr>\n",
       "      <th>color_F</th>\n",
       "      <td>0.000000</td>\n",
       "    </tr>\n",
       "    <tr>\n",
       "      <th>color_G</th>\n",
       "      <td>0.000000</td>\n",
       "    </tr>\n",
       "    <tr>\n",
       "      <th>color_I</th>\n",
       "      <td>-297.115152</td>\n",
       "    </tr>\n",
       "    <tr>\n",
       "      <th>color_J</th>\n",
       "      <td>-145.895964</td>\n",
       "    </tr>\n",
       "    <tr>\n",
       "      <th>cut_Good</th>\n",
       "      <td>0.000000</td>\n",
       "    </tr>\n",
       "    <tr>\n",
       "      <th>cut_Ideal</th>\n",
       "      <td>-456.779108</td>\n",
       "    </tr>\n",
       "    <tr>\n",
       "      <th>cut_Super_Ideal</th>\n",
       "      <td>544.510628</td>\n",
       "    </tr>\n",
       "    <tr>\n",
       "      <th>cut_Very_Good</th>\n",
       "      <td>0.000000</td>\n",
       "    </tr>\n",
       "    <tr>\n",
       "      <th>shape_Asscher</th>\n",
       "      <td>0.000000</td>\n",
       "    </tr>\n",
       "    <tr>\n",
       "      <th>shape_Cushion</th>\n",
       "      <td>-2280.077366</td>\n",
       "    </tr>\n",
       "    <tr>\n",
       "      <th>shape_Emerald</th>\n",
       "      <td>-39.399227</td>\n",
       "    </tr>\n",
       "    <tr>\n",
       "      <th>shape_Marquise</th>\n",
       "      <td>0.000000</td>\n",
       "    </tr>\n",
       "    <tr>\n",
       "      <th>shape_Oval</th>\n",
       "      <td>0.000000</td>\n",
       "    </tr>\n",
       "    <tr>\n",
       "      <th>shape_Pear</th>\n",
       "      <td>0.000000</td>\n",
       "    </tr>\n",
       "    <tr>\n",
       "      <th>shape_Princess</th>\n",
       "      <td>-1081.132457</td>\n",
       "    </tr>\n",
       "  </tbody>\n",
       "</table>\n",
       "</div>"
      ],
      "text/plain": [
       "                            0\n",
       "carat            17779.730823\n",
       "clarity_FL           0.000000\n",
       "clarity_IF           0.000000\n",
       "clarity_SI1       -368.528830\n",
       "clarity_VS1          0.000000\n",
       "clarity_VS2          0.000000\n",
       "clarity_VVS1         0.000000\n",
       "clarity_VVS2         0.000000\n",
       "color_D            701.506447\n",
       "color_E            218.332605\n",
       "color_F              0.000000\n",
       "color_G              0.000000\n",
       "color_I           -297.115152\n",
       "color_J           -145.895964\n",
       "cut_Good             0.000000\n",
       "cut_Ideal         -456.779108\n",
       "cut_Super_Ideal    544.510628\n",
       "cut_Very_Good        0.000000\n",
       "shape_Asscher        0.000000\n",
       "shape_Cushion    -2280.077366\n",
       "shape_Emerald      -39.399227\n",
       "shape_Marquise       0.000000\n",
       "shape_Oval           0.000000\n",
       "shape_Pear           0.000000\n",
       "shape_Princess   -1081.132457"
      ]
     },
     "execution_count": 24,
     "metadata": {},
     "output_type": "execute_result"
    }
   ],
   "source": [
    "a = pd.DataFrame(data=model.coef_, columns = data_for_regression.columns.values )\n",
    "a.transpose()"
   ]
  },
  {
   "cell_type": "code",
   "execution_count": null,
   "metadata": {
    "collapsed": true
   },
   "outputs": [],
   "source": [
    "model."
   ]
  },
  {
   "cell_type": "code",
   "execution_count": 26,
   "metadata": {
    "collapsed": false
   },
   "outputs": [
    {
     "data": {
      "text/html": [
       "<div>\n",
       "<table border=\"1\" class=\"dataframe\">\n",
       "  <thead>\n",
       "    <tr style=\"text-align: right;\">\n",
       "      <th></th>\n",
       "      <th>carat</th>\n",
       "      <th>price</th>\n",
       "      <th>clarity_FL</th>\n",
       "      <th>clarity_IF</th>\n",
       "      <th>clarity_SI1</th>\n",
       "      <th>clarity_VS1</th>\n",
       "      <th>clarity_VS2</th>\n",
       "      <th>clarity_VVS1</th>\n",
       "      <th>clarity_VVS2</th>\n",
       "      <th>color_D</th>\n",
       "      <th>...</th>\n",
       "      <th>cut_Ideal</th>\n",
       "      <th>cut_Super_Ideal</th>\n",
       "      <th>cut_Very_Good</th>\n",
       "      <th>shape_Asscher</th>\n",
       "      <th>shape_Cushion</th>\n",
       "      <th>shape_Emerald</th>\n",
       "      <th>shape_Marquise</th>\n",
       "      <th>shape_Oval</th>\n",
       "      <th>shape_Pear</th>\n",
       "      <th>shape_Princess</th>\n",
       "    </tr>\n",
       "  </thead>\n",
       "  <tbody>\n",
       "    <tr>\n",
       "      <th>0</th>\n",
       "      <td>0.55</td>\n",
       "      <td>1030</td>\n",
       "      <td>0</td>\n",
       "      <td>0</td>\n",
       "      <td>1</td>\n",
       "      <td>0</td>\n",
       "      <td>0</td>\n",
       "      <td>0</td>\n",
       "      <td>0</td>\n",
       "      <td>0</td>\n",
       "      <td>...</td>\n",
       "      <td>0</td>\n",
       "      <td>0</td>\n",
       "      <td>0</td>\n",
       "      <td>0</td>\n",
       "      <td>0</td>\n",
       "      <td>0</td>\n",
       "      <td>0</td>\n",
       "      <td>1</td>\n",
       "      <td>0</td>\n",
       "      <td>0</td>\n",
       "    </tr>\n",
       "    <tr>\n",
       "      <th>1</th>\n",
       "      <td>0.51</td>\n",
       "      <td>1060</td>\n",
       "      <td>0</td>\n",
       "      <td>0</td>\n",
       "      <td>0</td>\n",
       "      <td>1</td>\n",
       "      <td>0</td>\n",
       "      <td>0</td>\n",
       "      <td>0</td>\n",
       "      <td>0</td>\n",
       "      <td>...</td>\n",
       "      <td>0</td>\n",
       "      <td>0</td>\n",
       "      <td>0</td>\n",
       "      <td>0</td>\n",
       "      <td>0</td>\n",
       "      <td>0</td>\n",
       "      <td>0</td>\n",
       "      <td>1</td>\n",
       "      <td>0</td>\n",
       "      <td>0</td>\n",
       "    </tr>\n",
       "    <tr>\n",
       "      <th>2</th>\n",
       "      <td>0.51</td>\n",
       "      <td>1100</td>\n",
       "      <td>0</td>\n",
       "      <td>0</td>\n",
       "      <td>1</td>\n",
       "      <td>0</td>\n",
       "      <td>0</td>\n",
       "      <td>0</td>\n",
       "      <td>0</td>\n",
       "      <td>0</td>\n",
       "      <td>...</td>\n",
       "      <td>0</td>\n",
       "      <td>0</td>\n",
       "      <td>1</td>\n",
       "      <td>0</td>\n",
       "      <td>0</td>\n",
       "      <td>0</td>\n",
       "      <td>0</td>\n",
       "      <td>1</td>\n",
       "      <td>0</td>\n",
       "      <td>0</td>\n",
       "    </tr>\n",
       "    <tr>\n",
       "      <th>3</th>\n",
       "      <td>0.50</td>\n",
       "      <td>1190</td>\n",
       "      <td>0</td>\n",
       "      <td>0</td>\n",
       "      <td>0</td>\n",
       "      <td>0</td>\n",
       "      <td>0</td>\n",
       "      <td>0</td>\n",
       "      <td>0</td>\n",
       "      <td>0</td>\n",
       "      <td>...</td>\n",
       "      <td>0</td>\n",
       "      <td>0</td>\n",
       "      <td>0</td>\n",
       "      <td>0</td>\n",
       "      <td>0</td>\n",
       "      <td>0</td>\n",
       "      <td>0</td>\n",
       "      <td>1</td>\n",
       "      <td>0</td>\n",
       "      <td>0</td>\n",
       "    </tr>\n",
       "    <tr>\n",
       "      <th>4</th>\n",
       "      <td>0.50</td>\n",
       "      <td>1210</td>\n",
       "      <td>0</td>\n",
       "      <td>0</td>\n",
       "      <td>1</td>\n",
       "      <td>0</td>\n",
       "      <td>0</td>\n",
       "      <td>0</td>\n",
       "      <td>0</td>\n",
       "      <td>0</td>\n",
       "      <td>...</td>\n",
       "      <td>1</td>\n",
       "      <td>0</td>\n",
       "      <td>0</td>\n",
       "      <td>0</td>\n",
       "      <td>0</td>\n",
       "      <td>0</td>\n",
       "      <td>0</td>\n",
       "      <td>1</td>\n",
       "      <td>0</td>\n",
       "      <td>0</td>\n",
       "    </tr>\n",
       "  </tbody>\n",
       "</table>\n",
       "<p>5 rows × 26 columns</p>\n",
       "</div>"
      ],
      "text/plain": [
       "   carat  price  clarity_FL  clarity_IF  clarity_SI1  clarity_VS1  \\\n",
       "0   0.55   1030           0           0            1            0   \n",
       "1   0.51   1060           0           0            0            1   \n",
       "2   0.51   1100           0           0            1            0   \n",
       "3   0.50   1190           0           0            0            0   \n",
       "4   0.50   1210           0           0            1            0   \n",
       "\n",
       "   clarity_VS2  clarity_VVS1  clarity_VVS2  color_D       ...        \\\n",
       "0            0             0             0        0       ...         \n",
       "1            0             0             0        0       ...         \n",
       "2            0             0             0        0       ...         \n",
       "3            0             0             0        0       ...         \n",
       "4            0             0             0        0       ...         \n",
       "\n",
       "   cut_Ideal  cut_Super_Ideal  cut_Very_Good  shape_Asscher  shape_Cushion  \\\n",
       "0          0                0              0              0              0   \n",
       "1          0                0              0              0              0   \n",
       "2          0                0              1              0              0   \n",
       "3          0                0              0              0              0   \n",
       "4          1                0              0              0              0   \n",
       "\n",
       "   shape_Emerald  shape_Marquise  shape_Oval  shape_Pear  shape_Princess  \n",
       "0              0               0           1           0               0  \n",
       "1              0               0           1           0               0  \n",
       "2              0               0           1           0               0  \n",
       "3              0               0           1           0               0  \n",
       "4              0               0           1           0               0  \n",
       "\n",
       "[5 rows x 26 columns]"
      ]
     },
     "execution_count": 26,
     "metadata": {},
     "output_type": "execute_result"
    }
   ],
   "source": [
    "data_for_regression = pd.get_dummies(df)\n",
    "data_for_regression.drop(['clarity_SI2', 'color_H', 'cut_Fair','shape_Round'], axis = 1, inplace = True)\n",
    "data_for_regression.head()"
   ]
  },
  {
   "cell_type": "markdown",
   "metadata": {},
   "source": [
    "Create dummy variables for the categorical variables: clarity, color, cut, shape. I dropped one of each category in order to make the coefficients more meaningful. The last "
   ]
  },
  {
   "cell_type": "markdown",
   "metadata": {},
   "source": [
    "Created a standard OLS regression using the ols function of the statsmodels library. Note that I used a several interaction terms as well as a quadratic term on carat size. Observations:\n",
    "+ carat size matters **immensely** both as a quadratic and a linear term.\n",
    "+ huge jump between E and D color, which suggests D color rating may not be worth it.\n",
    "+ Round diamonds command a huge premium over every other kind of shape ('Round' was the ommitted dummy for the shape categorical variable).\n",
    "\n",
    "Fidelity of results:\n",
    "+ all of the variables came through as significant except the cut_Super_Ideal dummy. But the interaction term with this variable came through as significant so I'll leave it in.\n",
    "+ solid adjusted R^2 even with 26 degrees of freedom.\n",
    "+ good F statistic values (I think)\n",
    "\n",
    "My conclusions for this: Avoid round diamonds. If you need to make a tradeoff you can probably skimp on color (anyone who can tell the difference between D and E is a liar and you should call them out on it). "
   ]
  },
  {
   "cell_type": "code",
   "execution_count": 27,
   "metadata": {
    "collapsed": false
   },
   "outputs": [
    {
     "data": {
      "text/html": [
       "<table class=\"simpletable\">\n",
       "<caption>OLS Regression Results</caption>\n",
       "<tr>\n",
       "  <th>Dep. Variable:</th>          <td>price</td>      <th>  R-squared:         </th>  <td>   0.611</td>  \n",
       "</tr>\n",
       "<tr>\n",
       "  <th>Model:</th>                   <td>OLS</td>       <th>  Adj. R-squared:    </th>  <td>   0.611</td>  \n",
       "</tr>\n",
       "<tr>\n",
       "  <th>Method:</th>             <td>Least Squares</td>  <th>  F-statistic:       </th>  <td>   1114.</td>  \n",
       "</tr>\n",
       "<tr>\n",
       "  <th>Date:</th>             <td>Sat, 04 Jun 2016</td> <th>  Prob (F-statistic):</th>   <td>  0.00</td>   \n",
       "</tr>\n",
       "<tr>\n",
       "  <th>Time:</th>                 <td>08:29:25</td>     <th>  Log-Likelihood:    </th> <td>-1.5411e+05</td>\n",
       "</tr>\n",
       "<tr>\n",
       "  <th>No. Observations:</th>      <td> 14903</td>      <th>  AIC:               </th>  <td>3.083e+05</td> \n",
       "</tr>\n",
       "<tr>\n",
       "  <th>Df Residuals:</th>          <td> 14881</td>      <th>  BIC:               </th>  <td>3.084e+05</td> \n",
       "</tr>\n",
       "<tr>\n",
       "  <th>Df Model:</th>              <td>    21</td>      <th>                     </th>      <td> </td>     \n",
       "</tr>\n",
       "<tr>\n",
       "  <th>Covariance Type:</th>      <td>nonrobust</td>    <th>                     </th>      <td> </td>     \n",
       "</tr>\n",
       "</table>\n",
       "<table class=\"simpletable\">\n",
       "<tr>\n",
       "         <td></td>            <th>coef</th>     <th>std err</th>      <th>t</th>      <th>P>|t|</th> <th>[95.0% Conf. Int.]</th> \n",
       "</tr>\n",
       "<tr>\n",
       "  <th>Intercept</th>       <td>-1.193e+04</td> <td>  694.810</td> <td>  -17.175</td> <td> 0.000</td> <td>-1.33e+04 -1.06e+04</td>\n",
       "</tr>\n",
       "<tr>\n",
       "  <th>carat</th>           <td> 2.043e+04</td> <td>  140.989</td> <td>  144.899</td> <td> 0.000</td> <td> 2.02e+04  2.07e+04</td>\n",
       "</tr>\n",
       "<tr>\n",
       "  <th>clarity_IF</th>      <td> 3213.5710</td> <td>  386.365</td> <td>    8.317</td> <td> 0.000</td> <td> 2456.248  3970.894</td>\n",
       "</tr>\n",
       "<tr>\n",
       "  <th>clarity_SI1</th>     <td> -515.3416</td> <td>  179.484</td> <td>   -2.871</td> <td> 0.004</td> <td> -867.153  -163.530</td>\n",
       "</tr>\n",
       "<tr>\n",
       "  <th>clarity_VS1</th>     <td>  761.8250</td> <td>  172.722</td> <td>    4.411</td> <td> 0.000</td> <td>  423.268  1100.382</td>\n",
       "</tr>\n",
       "<tr>\n",
       "  <th>clarity_VVS1</th>    <td> 1757.0264</td> <td>  224.240</td> <td>    7.835</td> <td> 0.000</td> <td> 1317.487  2196.565</td>\n",
       "</tr>\n",
       "<tr>\n",
       "  <th>clarity_VVS2</th>    <td> 1149.1877</td> <td>  192.258</td> <td>    5.977</td> <td> 0.000</td> <td>  772.339  1526.037</td>\n",
       "</tr>\n",
       "<tr>\n",
       "  <th>color_D</th>         <td> 3227.4680</td> <td>  202.855</td> <td>   15.910</td> <td> 0.000</td> <td> 2829.847  3625.089</td>\n",
       "</tr>\n",
       "<tr>\n",
       "  <th>color_E</th>         <td> 2667.4800</td> <td>  181.029</td> <td>   14.735</td> <td> 0.000</td> <td> 2312.642  3022.318</td>\n",
       "</tr>\n",
       "<tr>\n",
       "  <th>color_F</th>         <td> 1996.1523</td> <td>  181.349</td> <td>   11.007</td> <td> 0.000</td> <td> 1640.686  2351.619</td>\n",
       "</tr>\n",
       "<tr>\n",
       "  <th>color_G</th>         <td> 1512.4699</td> <td>  191.021</td> <td>    7.918</td> <td> 0.000</td> <td> 1138.044  1886.895</td>\n",
       "</tr>\n",
       "<tr>\n",
       "  <th>cut_Good</th>        <td> 1179.8768</td> <td>  723.826</td> <td>    1.630</td> <td> 0.103</td> <td> -238.911  2598.665</td>\n",
       "</tr>\n",
       "<tr>\n",
       "  <th>cut_Very_Good</th>   <td>  405.4963</td> <td>  680.385</td> <td>    0.596</td> <td> 0.551</td> <td> -928.141  1739.134</td>\n",
       "</tr>\n",
       "<tr>\n",
       "  <th>cut_Ideal</th>       <td> -365.7614</td> <td>  683.538</td> <td>   -0.535</td> <td> 0.593</td> <td>-1705.581   974.058</td>\n",
       "</tr>\n",
       "<tr>\n",
       "  <th>cut_Super_Ideal</th> <td>  153.9914</td> <td>  680.324</td> <td>    0.226</td> <td> 0.821</td> <td>-1179.528  1487.511</td>\n",
       "</tr>\n",
       "<tr>\n",
       "  <th>shape_Asscher</th>   <td>-6341.9520</td> <td>  414.036</td> <td>  -15.317</td> <td> 0.000</td> <td>-7153.513 -5530.391</td>\n",
       "</tr>\n",
       "<tr>\n",
       "  <th>shape_Cushion</th>   <td>-6874.5206</td> <td>  288.241</td> <td>  -23.850</td> <td> 0.000</td> <td>-7439.509 -6309.532</td>\n",
       "</tr>\n",
       "<tr>\n",
       "  <th>shape_Emerald</th>   <td>-4889.2262</td> <td>  283.488</td> <td>  -17.247</td> <td> 0.000</td> <td>-5444.897 -4333.555</td>\n",
       "</tr>\n",
       "<tr>\n",
       "  <th>shape_Marquise</th>  <td>-5213.2015</td> <td>  693.833</td> <td>   -7.514</td> <td> 0.000</td> <td>-6573.200 -3853.203</td>\n",
       "</tr>\n",
       "<tr>\n",
       "  <th>shape_Oval</th>      <td>-4515.7088</td> <td>  385.081</td> <td>  -11.727</td> <td> 0.000</td> <td>-5270.514 -3760.903</td>\n",
       "</tr>\n",
       "<tr>\n",
       "  <th>shape_Pear</th>      <td>-2365.2803</td> <td>  315.742</td> <td>   -7.491</td> <td> 0.000</td> <td>-2984.174 -1746.387</td>\n",
       "</tr>\n",
       "<tr>\n",
       "  <th>shape_Princess</th>  <td>-4405.6118</td> <td>  229.543</td> <td>  -19.193</td> <td> 0.000</td> <td>-4855.545 -3955.678</td>\n",
       "</tr>\n",
       "</table>\n",
       "<table class=\"simpletable\">\n",
       "<tr>\n",
       "  <th>Omnibus:</th>       <td>47576.096</td> <th>  Durbin-Watson:     </th>    <td>   1.038</td>   \n",
       "</tr>\n",
       "<tr>\n",
       "  <th>Prob(Omnibus):</th>  <td> 0.000</td>   <th>  Jarque-Bera (JB):  </th> <td>9943757730.827</td>\n",
       "</tr>\n",
       "<tr>\n",
       "  <th>Skew:</th>           <td>51.785</td>   <th>  Prob(JB):          </th>    <td>    0.00</td>   \n",
       "</tr>\n",
       "<tr>\n",
       "  <th>Kurtosis:</th>      <td>4003.355</td>  <th>  Cond. No.          </th>    <td>    37.0</td>   \n",
       "</tr>\n",
       "</table>"
      ],
      "text/plain": [
       "<class 'statsmodels.iolib.summary.Summary'>\n",
       "\"\"\"\n",
       "                            OLS Regression Results                            \n",
       "==============================================================================\n",
       "Dep. Variable:                  price   R-squared:                       0.611\n",
       "Model:                            OLS   Adj. R-squared:                  0.611\n",
       "Method:                 Least Squares   F-statistic:                     1114.\n",
       "Date:                Sat, 04 Jun 2016   Prob (F-statistic):               0.00\n",
       "Time:                        08:29:25   Log-Likelihood:            -1.5411e+05\n",
       "No. Observations:               14903   AIC:                         3.083e+05\n",
       "Df Residuals:                   14881   BIC:                         3.084e+05\n",
       "Df Model:                          21                                         \n",
       "Covariance Type:            nonrobust                                         \n",
       "===================================================================================\n",
       "                      coef    std err          t      P>|t|      [95.0% Conf. Int.]\n",
       "-----------------------------------------------------------------------------------\n",
       "Intercept       -1.193e+04    694.810    -17.175      0.000     -1.33e+04 -1.06e+04\n",
       "carat            2.043e+04    140.989    144.899      0.000      2.02e+04  2.07e+04\n",
       "clarity_IF       3213.5710    386.365      8.317      0.000      2456.248  3970.894\n",
       "clarity_SI1      -515.3416    179.484     -2.871      0.004      -867.153  -163.530\n",
       "clarity_VS1       761.8250    172.722      4.411      0.000       423.268  1100.382\n",
       "clarity_VVS1     1757.0264    224.240      7.835      0.000      1317.487  2196.565\n",
       "clarity_VVS2     1149.1877    192.258      5.977      0.000       772.339  1526.037\n",
       "color_D          3227.4680    202.855     15.910      0.000      2829.847  3625.089\n",
       "color_E          2667.4800    181.029     14.735      0.000      2312.642  3022.318\n",
       "color_F          1996.1523    181.349     11.007      0.000      1640.686  2351.619\n",
       "color_G          1512.4699    191.021      7.918      0.000      1138.044  1886.895\n",
       "cut_Good         1179.8768    723.826      1.630      0.103      -238.911  2598.665\n",
       "cut_Very_Good     405.4963    680.385      0.596      0.551      -928.141  1739.134\n",
       "cut_Ideal        -365.7614    683.538     -0.535      0.593     -1705.581   974.058\n",
       "cut_Super_Ideal   153.9914    680.324      0.226      0.821     -1179.528  1487.511\n",
       "shape_Asscher   -6341.9520    414.036    -15.317      0.000     -7153.513 -5530.391\n",
       "shape_Cushion   -6874.5206    288.241    -23.850      0.000     -7439.509 -6309.532\n",
       "shape_Emerald   -4889.2262    283.488    -17.247      0.000     -5444.897 -4333.555\n",
       "shape_Marquise  -5213.2015    693.833     -7.514      0.000     -6573.200 -3853.203\n",
       "shape_Oval      -4515.7088    385.081    -11.727      0.000     -5270.514 -3760.903\n",
       "shape_Pear      -2365.2803    315.742     -7.491      0.000     -2984.174 -1746.387\n",
       "shape_Princess  -4405.6118    229.543    -19.193      0.000     -4855.545 -3955.678\n",
       "==============================================================================\n",
       "Omnibus:                    47576.096   Durbin-Watson:                   1.038\n",
       "Prob(Omnibus):                  0.000   Jarque-Bera (JB):       9943757730.827\n",
       "Skew:                          51.785   Prob(JB):                         0.00\n",
       "Kurtosis:                    4003.355   Cond. No.                         37.0\n",
       "==============================================================================\n",
       "\n",
       "Warnings:\n",
       "[1] Standard Errors assume that the covariance matrix of the errors is correctly specified.\n",
       "\"\"\""
      ]
     },
     "execution_count": 27,
     "metadata": {},
     "output_type": "execute_result"
    }
   ],
   "source": [
    "lm = smf.ols(formula= 'price ~ carat \\\n",
    "                        + clarity_IF + clarity_SI1 + clarity_VS1 + clarity_VS1 + clarity_VVS1 + clarity_VVS2 \\\n",
    "                        + color_D +color_E + color_F + color_G \\\n",
    "                        + cut_Good + cut_Very_Good + cut_Ideal + cut_Super_Ideal \\\n",
    "                        + shape_Asscher + shape_Cushion + shape_Emerald + shape_Marquise \\\n",
    "                        + shape_Oval + shape_Pear + shape_Princess' , data=data_for_regression).fit()\n",
    "lm.summary()"
   ]
  },
  {
   "cell_type": "markdown",
   "metadata": {},
   "source": [
    "The below represents some sandbox work I've been doing to do some cross validation and explore the effect of chunking the dataset into test and training parts. Was specifically interested in MSE as a function of test/train split size. Kinda funky results, but generally what I expected.\n",
    "\n",
    "**NOTE**: I would modify the range size if you are working on a slower machine. I ran each regression a thousand times but you could probably get away with much, much less."
   ]
  },
  {
   "cell_type": "code",
   "execution_count": 130,
   "metadata": {
    "collapsed": false
   },
   "outputs": [],
   "source": [
    "X = data_for_regression.drop('price', axis = 1)\n",
    "y = data_for_regression['price']\n",
    "test_size_range = list(np.arange(0.05,1,0.05))\n",
    "answer_list = list()\n",
    "\n",
    "for t in test_size_range:\n",
    "    for i in range(0,1000):\n",
    "        test_list = list()\n",
    "        for_analysis = pd.DataFrame()\n",
    "        X_train, X_test, y_train, y_test = train_test_split(X,y,test_size= t)\n",
    "        test_results = smf.OLS(y_train, X_train).fit()\n",
    "        y_test_predict = test_results.predict(X_test)\n",
    "        for_analysis = pd.DataFrame({'y_test' : y_test, \n",
    "                                 'y_test_hat' : y_test_predict})\n",
    "        for_analysis['error'] = for_analysis['y_test_hat'] - for_analysis['y_test']\n",
    "        n = len(for_analysis.index)\n",
    "        for_analysis['Squared Error'] = for_analysis['error']**2\n",
    "        MSE = sum(for_analysis['Squared Error']) / n\n",
    "        test_list.append(MSE)\n",
    "    ans = sum(test_list) / len(test_list)\n",
    "    answer_list.append(ans)"
   ]
  },
  {
   "cell_type": "code",
   "execution_count": 131,
   "metadata": {
    "collapsed": false
   },
   "outputs": [
    {
     "data": {
      "text/plain": [
       "<matplotlib.legend.Legend at 0x1101dacf8>"
      ]
     },
     "execution_count": 131,
     "metadata": {},
     "output_type": "execute_result"
    },
    {
     "data": {
      "image/png": "[encoded data removed]",
      "text/plain": [
       "<matplotlib.figure.Figure at 0x10fe879e8>"
      ]
     },
     "metadata": {},
     "output_type": "display_data"
    }
   ],
   "source": [
    "%matplotlib inline\n",
    "\n",
    "fig, ax = plt.subplots(figsize=(8,6))\n",
    "\n",
    "ax.plot(test_size_range, answer_list, 'b-', label = 'MSE')\n",
    "plt.xlabel('Testing Size of Dataset')\n",
    "plt.ylabel('MSE')\n",
    "ax.legend(loc='best')"
   ]
  },
  {
   "cell_type": "markdown",
   "metadata": {},
   "source": [
    "Trying to execute a similar process for the blue nile website. Their API is super f-cking clunky and I haven't made much progress."
   ]
  },
  {
   "cell_type": "code",
   "execution_count": 4,
   "metadata": {
    "collapsed": false
   },
   "outputs": [],
   "source": [
    "start_pos = 0\n",
    "page_results = 1000\n",
    "n_total = 162500\n",
    "n_max = math.floor(n_total/page_results)\n",
    "\n",
    "\n",
    "color_bn = list()\n",
    "cut_bn = list()\n",
    "price_bn = list()\n",
    "clarity_bn = list()\n",
    "carat_bn = list()\n",
    "\n",
    "\n",
    "#for i in range(0,3):\n",
    "#   url_blue_nile = \"http://www.bluenile.com/api/public/build-your-own-ring/diamond-search-grid/solr?country=USA&language=en-us&currency=USD&startIndex=\" + str(10000) + \"&pageSize=\" + str(page_results) + \"&sortColumn=price&sortDirection=asc&_=1456107481571\"\n",
    "#    r = requests.get(url_blue_nile)\n",
    "#    data = json.loads(r.text)\n",
    "#    data = data['results']\n",
    "#    for j in data:\n",
    "#        carat_bn.append(j['carat'])\n",
    "#    data = []\n",
    "#diamonds = data['diamonds']\n",
    "#data_test = json.loads(r.text)\n",
    "#data_test = data_test['diamonds']\n",
    "#data = data['results']\n",
    "#data"
   ]
  },
  {
   "cell_type": "code",
   "execution_count": 4,
   "metadata": {
    "collapsed": true
   },
   "outputs": [],
   "source": [
    "#Created a quick mapping so that the cut categorical variables would map correctly when using the .get_dummies function from pandas.\n",
    "    \n",
    "def cut_to_dummy(x):\n",
    "    if x == \"Very Good\":\n",
    "        return \"Very_Good\"\n",
    "    if x == \"Super Ideal\":\n",
    "        return \"Super_Ideal\"\n",
    "    else:\n",
    "        return x"
   ]
  }
 ],
 "metadata": {
  "kernelspec": {
   "display_name": "Python 3",
   "language": "python",
   "name": "python3"
  },
  "language_info": {
   "codemirror_mode": {
    "name": "ipython",
    "version": 3
   },
   "file_extension": ".py",
   "mimetype": "text/x-python",
   "name": "python",
   "nbconvert_exporter": "python",
   "pygments_lexer": "ipython3",
   "version": "3.4.4"
  }
 },
 "nbformat": 4,
 "nbformat_minor": 0
}
