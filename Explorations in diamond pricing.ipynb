{
 "cells": [
  {
   "cell_type": "code",
   "execution_count": 62,
   "metadata": {
    "collapsed": false
   },
   "outputs": [],
   "source": [
    "import requests, json, pandas as pd, numpy as np\n",
    "import time\n",
    "from scipy import stats\n",
    "import matplotlib.pyplot as plt\n",
    "import statsmodels.formula.api as smf\n",
    "import sklearn as sk\n",
    "from sklearn.linear_model import MultiTaskLassoCV, LassoCV\n",
    "import math\n",
    "from sklearn.cross_validation import train_test_split\n",
    "import rpy2.robjects as ro\n",
    "%matplotlib inline"
   ]
  },
  {
   "cell_type": "markdown",
   "metadata": {},
   "source": [
    "The basic premise: Brilliant Earth is a purveyor of ethically sourced, non-conflict diamonds... or so they claim. There are a dizzying number of combinations of diamond qualities (Color, Cut, Carat, Clarity, Shape) and it's unclear how these all relate to the final price of the diamond. My goal was to develop a multiple linear regression to determine the relationship between the 4Cs and the price of the diamond.\n",
    "\n",
    "Luckily Brilliant Earth's API is public and reasonably well maintained (and doesn't include any rate-limiting). Getting the  API URL and response structure is trivial, as was the regression modeling. There are also well documented  libraries in Python to quickly conduct linear regression and output model characteristics. Note - the goal for this was *not* prediction of price, only inference and learning.\n",
    "\n",
    "Future applicaitons might consider more advanced statistical methods, but didn't have time for that before sharing."
   ]
  },
  {
   "cell_type": "markdown",
   "metadata": {},
   "source": [
    "## Data Extraction and Cleaning"
   ]
  },
  {
   "cell_type": "code",
   "execution_count": 2,
   "metadata": {
    "collapsed": false
   },
   "outputs": [],
   "source": [
    "#Brilliant Earth API call. Some filtering based on my original search, but this pulls about 5000 of BE's diamonds. Can easily use the dev tools setting in chrome to find out where this is. Not going to document here.\n",
    "\n",
    "url_round = \"http://www.brilliantearth.com/loose-diamonds/list/?shapes=Round&cuts=Fair%2CGood%2CVery+Good%2CIdeal%2CSuper+Ideal&colors=J%2CI%2CH%2CG%2CF%2CE%2CD&clarities=SI2%2CSI1%2CVS2%2CVS1%2CVVS2%2CVVS1%2CIF%2CFL&polishes=Good%2CVery+Good%2CExcellent&symmetries=Good%2CVery+Good%2CExcellent&fluorescences=Very+Strong%2CStrong%2CMedium%2CFaint%2CNone&min_carat=0.5&max_carat=18.75&min_table=45.00&max_table=85.00&min_depth=0.00&max_depth=83.10&min_price=530&max_price=2559240&stock_number=&row=0&page=1&requestedDataSize=10000&order_by=price&order_method=asc&currency=%24&min_ratio=1.00&max_ratio=2.75&shipping_day=&MIN_PRICE=530&MAX_PRICE=2559240&MIN_CARAT=0.25&MAX_CARAT=18.75&MIN_TABLE=45&MAX_TABLE=85&MIN_DEPTH=0&MAX_DEPTH=83.1\"\n",
    "url_oval = \"http://www.brilliantearth.com/loose-diamonds/list/?shapes=Oval&cuts=Fair%2CGood%2CVery+Good%2CIdeal%2CSuper+Ideal&colors=J%2CI%2CH%2CG%2CF%2CE%2CD&clarities=SI2%2CSI1%2CVS2%2CVS1%2CVVS2%2CVVS1%2CIF%2CFL&polishes=Good%2CVery+Good%2CExcellent&symmetries=Good%2CVery+Good%2CExcellent&fluorescences=Very+Strong%2CStrong%2CMedium%2CFaint%2CNone&min_carat=0.5&max_carat=18.75&min_table=45.00&max_table=85.00&min_depth=0.00&max_depth=83.10&min_price=530&max_price=2559240&stock_number=&row=0&page=1&requestedDataSize=10000&order_by=price&order_method=asc&currency=%24&min_ratio=1.00&max_ratio=2.75&shipping_day=&MIN_PRICE=530&MAX_PRICE=2559240&MIN_CARAT=0.25&MAX_CARAT=18.75&MIN_TABLE=45&MAX_TABLE=85&MIN_DEPTH=0&MAX_DEPTH=83.1\"\n",
    "url_asscher = \"http://www.brilliantearth.com/loose-diamonds/list/?shapes=Asscher&cuts=Fair%2CGood%2CVery+Good%2CIdeal%2CSuper+Ideal&colors=J%2CI%2CH%2CG%2CF%2CE%2CD&clarities=SI2%2CSI1%2CVS2%2CVS1%2CVVS2%2CVVS1%2CIF%2CFL&polishes=Good%2CVery+Good%2CExcellent&symmetries=Good%2CVery+Good%2CExcellent&fluorescences=Very+Strong%2CStrong%2CMedium%2CFaint%2CNone&min_carat=0.5&max_carat=18.75&min_table=45.00&max_table=85.00&min_depth=0.00&max_depth=83.10&min_price=530&max_price=2559240&stock_number=&row=0&page=1&requestedDataSize=10000&order_by=price&order_method=asc&currency=%24&min_ratio=1.00&max_ratio=2.75&shipping_day=&MIN_PRICE=530&MAX_PRICE=2559240&MIN_CARAT=0.25&MAX_CARAT=18.75&MIN_TABLE=45&MAX_TABLE=85&MIN_DEPTH=0&MAX_DEPTH=83.1\"\n",
    "url_cushion = \"http://www.brilliantearth.com/loose-diamonds/list/?shapes=Cushion&cuts=Fair%2CGood%2CVery+Good%2CIdeal%2CSuper+Ideal&colors=J%2CI%2CH%2CG%2CF%2CE%2CD&clarities=SI2%2CSI1%2CVS2%2CVS1%2CVVS2%2CVVS1%2CIF%2CFL&polishes=Good%2CVery+Good%2CExcellent&symmetries=Good%2CVery+Good%2CExcellent&fluorescences=Very+Strong%2CStrong%2CMedium%2CFaint%2CNone&min_carat=0.5&max_carat=18.75&min_table=45.00&max_table=85.00&min_depth=0.00&max_depth=83.10&min_price=530&max_price=2559240&stock_number=&row=0&page=1&requestedDataSize=10000&order_by=price&order_method=asc&currency=%24&min_ratio=1.00&max_ratio=2.75&shipping_day=&MIN_PRICE=530&MAX_PRICE=2559240&MIN_CARAT=0.25&MAX_CARAT=18.75&MIN_TABLE=45&MAX_TABLE=85&MIN_DEPTH=0&MAX_DEPTH=83.1\"\n",
    "url_princess = \"http://www.brilliantearth.com/loose-diamonds/list/?shapes=Princess&cuts=Fair%2CGood%2CVery+Good%2CIdeal%2CSuper+Ideal&colors=J%2CI%2CH%2CG%2CF%2CE%2CD&clarities=SI2%2CSI1%2CVS2%2CVS1%2CVVS2%2CVVS1%2CIF%2CFL&polishes=Good%2CVery+Good%2CExcellent&symmetries=Good%2CVery+Good%2CExcellent&fluorescences=Very+Strong%2CStrong%2CMedium%2CFaint%2CNone&min_carat=0.5&max_carat=18.75&min_table=45.00&max_table=85.00&min_depth=0.00&max_depth=83.10&min_price=530&max_price=2559240&stock_number=&row=0&page=1&requestedDataSize=10000&order_by=price&order_method=asc&currency=%24&min_ratio=1.00&max_ratio=2.75&shipping_day=&MIN_PRICE=530&MAX_PRICE=2559240&MIN_CARAT=0.25&MAX_CARAT=18.75&MIN_TABLE=45&MAX_TABLE=85&MIN_DEPTH=0&MAX_DEPTH=83.1\"\n",
    "url_pear = \"http://www.brilliantearth.com/loose-diamonds/list/?shapes=Pear&cuts=Fair%2CGood%2CVery+Good%2CIdeal%2CSuper+Ideal&colors=J%2CI%2CH%2CG%2CF%2CE%2CD&clarities=SI2%2CSI1%2CVS2%2CVS1%2CVVS2%2CVVS1%2CIF%2CFL&polishes=Good%2CVery+Good%2CExcellent&symmetries=Good%2CVery+Good%2CExcellent&fluorescences=Very+Strong%2CStrong%2CMedium%2CFaint%2CNone&min_carat=0.5&max_carat=18.75&min_table=45.00&max_table=85.00&min_depth=0.00&max_depth=83.10&min_price=530&max_price=2559240&stock_number=&row=0&page=1&requestedDataSize=10000&order_by=price&order_method=asc&currency=%24&min_ratio=1.00&max_ratio=2.75&shipping_day=&MIN_PRICE=530&MAX_PRICE=2559240&MIN_CARAT=0.25&MAX_CARAT=18.75&MIN_TABLE=45&MAX_TABLE=85&MIN_DEPTH=0&MAX_DEPTH=83.1\"\n",
    "url_emerald = \"http://www.brilliantearth.com/loose-diamonds/list/?shapes=Emerald&cuts=Fair%2CGood%2CVery+Good%2CIdeal%2CSuper+Ideal&colors=J%2CI%2CH%2CG%2CF%2CE%2CD&clarities=SI2%2CSI1%2CVS2%2CVS1%2CVVS2%2CVVS1%2CIF%2CFL&polishes=Good%2CVery+Good%2CExcellent&symmetries=Good%2CVery+Good%2CExcellent&fluorescences=Very+Strong%2CStrong%2CMedium%2CFaint%2CNone&min_carat=0.5&max_carat=18.75&min_table=45.00&max_table=85.00&min_depth=0.00&max_depth=83.10&min_price=530&max_price=2559240&stock_number=&row=0&page=1&requestedDataSize=10000&order_by=price&order_method=asc&currency=%24&min_ratio=1.00&max_ratio=2.75&shipping_day=&MIN_PRICE=530&MAX_PRICE=2559240&MIN_CARAT=0.25&MAX_CARAT=18.75&MIN_TABLE=45&MAX_TABLE=85&MIN_DEPTH=0&MAX_DEPTH=83.1\"\n",
    "url_marquise = \"http://www.brilliantearth.com/loose-diamonds/list/?shapes=Marquise&cuts=Fair%2CGood%2CVery+Good%2CIdeal%2CSuper+Ideal&colors=J%2CI%2CH%2CG%2CF%2CE%2CD&clarities=SI2%2CSI1%2CVS2%2CVS1%2CVVS2%2CVVS1%2CIF%2CFL&polishes=Good%2CVery+Good%2CExcellent&symmetries=Good%2CVery+Good%2CExcellent&fluorescences=Very+Strong%2CStrong%2CMedium%2CFaint%2CNone&min_carat=0.5&max_carat=18.75&min_table=45.00&max_table=85.00&min_depth=0.00&max_depth=83.10&min_price=530&max_price=2559240&stock_number=&row=0&page=1&requestedDataSize=10000&order_by=price&order_method=asc&currency=%24&min_ratio=1.00&max_ratio=2.75&shipping_day=&MIN_PRICE=530&MAX_PRICE=2559240&MIN_CARAT=0.25&MAX_CARAT=18.75&MIN_TABLE=45&MAX_TABLE=85&MIN_DEPTH=0&MAX_DEPTH=83.1\"\n",
    "url_list = [url_oval,url_asscher,url_cushion,url_princess,url_pear, url_emerald, url_marquise,url_round]\n",
    "#url = \"http://www.brilliantearth.com/loose-diamonds/list/?shapes=Oval&cuts=Fair%2CGood%2CVery+Good%2CIdeal%2CSuper+Ideal&colors=J%2CI%2CH%2CG%2CF%2CE%2CD&clarities=SI2%2CSI1%2CVS2%2CVS1%2CVVS2%2CVVS1%2CIF%2CFL&polishes=Good%2CVery+Good%2CExcellent&symmetries=Good%2CVery+Good%2CExcellent&fluorescences=Very+Strong%2CStrong%2CMedium%2CFaint%2CNone&min_carat=1.00&max_carat=2.51&min_table=45.00&max_table=85.00&min_depth=0.00&max_depth=83.10&min_price=720&max_price=25000&stock_number=&row=0&requestedDataSize=100&order_by=price&order_method=desc&currency=%24&min_ratio=1.00&max_ratio=2.75&shipping_day=&MIN_PRICE=720&MAX_PRICE=226620&MIN_CARAT=0.3&MAX_CARAT=5.06&MIN_TABLE=45&MAX_TABLE=85&MIN_DEPTH=0&MAX_DEPTH=83.1\""
   ]
  },
  {
   "cell_type": "markdown",
   "metadata": {},
   "source": [
    "The JSON response is poorly formatted, so instead of grabbing the \"results\" item, the below code grabs the \"diamonds\" item, which contains a JSON document for each diamond in Brilliant Earth's inventory.\n"
   ]
  },
  {
   "cell_type": "markdown",
   "metadata": {},
   "source": [
    "After separating the JSON into just the 'diamond' documents, I loop through and grab each of the quantities of diamond characteristics including: \n",
    "- carat size\n",
    "- price\n",
    "- clarity (using the common diamond clarity scale)\n",
    "- color (using the common diamond color scale)\n",
    "- cut (using the common diamond cut scale)\n",
    "- shape (10 different diamond shapes)"
   ]
  },
  {
   "cell_type": "code",
   "execution_count": 3,
   "metadata": {
    "collapsed": false
   },
   "outputs": [],
   "source": [
    "carat = list()\n",
    "price = list()\n",
    "clarity = list()\n",
    "color = list()\n",
    "cut = list()\n",
    "shape = list()\n",
    "for u in url_list:\n",
    "    r = requests.get(u,timeout=1000)\n",
    "    data = json.loads(r.text)\n",
    "    diamonds = data['diamonds']\n",
    "    for i in diamonds:\n",
    "        carat.append(i['carat'])\n",
    "        price.append(i['price'])\n",
    "        clarity.append(i['clarity'])\n",
    "        color.append(i['color'])\n",
    "        cut.append(i['cut'])\n",
    "        shape.append(i['shape'])\n",
    "    "
   ]
  },
  {
   "cell_type": "markdown",
   "metadata": {},
   "source": [
    "Next we create a dataframe with all of the characteristics. Note that I modified the \"cut\"variable in order to eliminate spaces in the multi-word values. This was important to make sure the get_dummies() function created data frame column names that would be interpretable by the Statsmodel functions I used later."
   ]
  },
  {
   "cell_type": "code",
   "execution_count": 5,
   "metadata": {
    "collapsed": false
   },
   "outputs": [
    {
     "data": {
      "text/plain": [
       "(14903, 6)"
      ]
     },
     "execution_count": 5,
     "metadata": {},
     "output_type": "execute_result"
    }
   ],
   "source": [
    "df = pd.DataFrame({\"carat\": carat,\n",
    "                   \"price\" : price,\n",
    "                   \"clarity\" : clarity,\n",
    "                   \"color\" : color,\n",
    "                   \"cut\" : cut,\n",
    "                   \"shape\" : shape})\n",
    "df['cut'] = df['cut'].apply(cut_to_dummy)\n",
    "df.head()\n",
    "df.shape"
   ]
  },
  {
   "cell_type": "markdown",
   "metadata": {},
   "source": [
    "~15K diamonds in the training dataset. Not bad, though something with the API is limiting the number of results I can grab at a time. This might bias the sample with the round diamonds in particular, as that dataset makes up by far the largest portion."
   ]
  },
  {
   "cell_type": "code",
   "execution_count": 6,
   "metadata": {
    "collapsed": false
   },
   "outputs": [
    {
     "data": {
      "text/html": [
       "<div>\n",
       "<table border=\"1\" class=\"dataframe\">\n",
       "  <thead>\n",
       "    <tr style=\"text-align: right;\">\n",
       "      <th></th>\n",
       "      <th>carat</th>\n",
       "      <th>clarity</th>\n",
       "      <th>color</th>\n",
       "      <th>cut</th>\n",
       "      <th>price</th>\n",
       "      <th>shape</th>\n",
       "    </tr>\n",
       "  </thead>\n",
       "  <tbody>\n",
       "    <tr>\n",
       "      <th>0</th>\n",
       "      <td>0.55</td>\n",
       "      <td>SI1</td>\n",
       "      <td>J</td>\n",
       "      <td>Good</td>\n",
       "      <td>1030</td>\n",
       "      <td>Oval</td>\n",
       "    </tr>\n",
       "    <tr>\n",
       "      <th>1</th>\n",
       "      <td>0.51</td>\n",
       "      <td>VS1</td>\n",
       "      <td>J</td>\n",
       "      <td>Fair</td>\n",
       "      <td>1060</td>\n",
       "      <td>Oval</td>\n",
       "    </tr>\n",
       "    <tr>\n",
       "      <th>2</th>\n",
       "      <td>0.51</td>\n",
       "      <td>SI1</td>\n",
       "      <td>I</td>\n",
       "      <td>Very_Good</td>\n",
       "      <td>1100</td>\n",
       "      <td>Oval</td>\n",
       "    </tr>\n",
       "    <tr>\n",
       "      <th>3</th>\n",
       "      <td>0.50</td>\n",
       "      <td>SI2</td>\n",
       "      <td>F</td>\n",
       "      <td>Fair</td>\n",
       "      <td>1190</td>\n",
       "      <td>Oval</td>\n",
       "    </tr>\n",
       "    <tr>\n",
       "      <th>4</th>\n",
       "      <td>0.50</td>\n",
       "      <td>SI1</td>\n",
       "      <td>H</td>\n",
       "      <td>Ideal</td>\n",
       "      <td>1210</td>\n",
       "      <td>Oval</td>\n",
       "    </tr>\n",
       "  </tbody>\n",
       "</table>\n",
       "</div>"
      ],
      "text/plain": [
       "   carat clarity color        cut  price shape\n",
       "0   0.55     SI1     J       Good   1030  Oval\n",
       "1   0.51     VS1     J       Fair   1060  Oval\n",
       "2   0.51     SI1     I  Very_Good   1100  Oval\n",
       "3   0.50     SI2     F       Fair   1190  Oval\n",
       "4   0.50     SI1     H      Ideal   1210  Oval"
      ]
     },
     "execution_count": 6,
     "metadata": {},
     "output_type": "execute_result"
    }
   ],
   "source": [
    "df.head()"
   ]
  },
  {
   "cell_type": "code",
   "execution_count": 8,
   "metadata": {
    "collapsed": false
   },
   "outputs": [
    {
     "data": {
      "text/html": [
       "<div>\n",
       "<table border=\"1\" class=\"dataframe\">\n",
       "  <thead>\n",
       "    <tr style=\"text-align: right;\">\n",
       "      <th></th>\n",
       "      <th>price</th>\n",
       "    </tr>\n",
       "  </thead>\n",
       "  <tbody>\n",
       "    <tr>\n",
       "      <th>0</th>\n",
       "      <td>1030</td>\n",
       "    </tr>\n",
       "    <tr>\n",
       "      <th>1</th>\n",
       "      <td>1060</td>\n",
       "    </tr>\n",
       "    <tr>\n",
       "      <th>2</th>\n",
       "      <td>1100</td>\n",
       "    </tr>\n",
       "    <tr>\n",
       "      <th>3</th>\n",
       "      <td>1190</td>\n",
       "    </tr>\n",
       "    <tr>\n",
       "      <th>4</th>\n",
       "      <td>1210</td>\n",
       "    </tr>\n",
       "  </tbody>\n",
       "</table>\n",
       "</div>"
      ],
      "text/plain": [
       "   price\n",
       "0   1030\n",
       "1   1060\n",
       "2   1100\n",
       "3   1190\n",
       "4   1210"
      ]
     },
     "execution_count": 8,
     "metadata": {},
     "output_type": "execute_result"
    }
   ],
   "source": [
    "data_for_regression = pd.get_dummies(df)\n",
    "data_for_regression.drop(['clarity_SI2', 'color_H', 'cut_Fair','shape_Round'], axis = 1, inplace = True)\n",
    "pricedata = pd.DataFrame.from_dict(data_for_regression['price'])\n",
    "data_for_regression.drop(['price'],axis=1,inplace=True)\n",
    "data_for_regression.columns\n",
    "pricedata.head()"
   ]
  },
  {
   "cell_type": "code",
   "execution_count": 10,
   "metadata": {
    "collapsed": false
   },
   "outputs": [
    {
     "data": {
      "text/html": [
       "<div>\n",
       "<table border=\"1\" class=\"dataframe\">\n",
       "  <thead>\n",
       "    <tr style=\"text-align: right;\">\n",
       "      <th></th>\n",
       "      <th>price</th>\n",
       "    </tr>\n",
       "  </thead>\n",
       "  <tbody>\n",
       "    <tr>\n",
       "      <th>0</th>\n",
       "      <td>1030</td>\n",
       "    </tr>\n",
       "    <tr>\n",
       "      <th>1</th>\n",
       "      <td>1060</td>\n",
       "    </tr>\n",
       "    <tr>\n",
       "      <th>2</th>\n",
       "      <td>1100</td>\n",
       "    </tr>\n",
       "    <tr>\n",
       "      <th>3</th>\n",
       "      <td>1190</td>\n",
       "    </tr>\n",
       "    <tr>\n",
       "      <th>4</th>\n",
       "      <td>1210</td>\n",
       "    </tr>\n",
       "  </tbody>\n",
       "</table>\n",
       "</div>"
      ],
      "text/plain": [
       "   price\n",
       "0   1030\n",
       "1   1060\n",
       "2   1100\n",
       "3   1190\n",
       "4   1210"
      ]
     },
     "execution_count": 10,
     "metadata": {},
     "output_type": "execute_result"
    }
   ],
   "source": [
    "pricedata.head()"
   ]
  },
  {
   "cell_type": "markdown",
   "metadata": {},
   "source": [
    "## Profiling"
   ]
  },
  {
   "cell_type": "code",
   "execution_count": 75,
   "metadata": {
    "collapsed": false
   },
   "outputs": [
    {
     "data": {
      "text/plain": [
       "(14743, 6)"
      ]
     },
     "execution_count": 75,
     "metadata": {},
     "output_type": "execute_result"
    }
   ],
   "source": [
    "#Outlier removal - 3 stdev away from the mean is dropped\n",
    "z = df[(np.abs(df.price-df.price.mean())<=(3*df.price.std()))]\n",
    "z.shape"
   ]
  },
  {
   "cell_type": "code",
   "execution_count": 81,
   "metadata": {
    "collapsed": false
   },
   "outputs": [
    {
     "data": {
      "text/html": [
       "<div>\n",
       "<table border=\"1\" class=\"dataframe\">\n",
       "  <thead>\n",
       "    <tr style=\"text-align: right;\">\n",
       "      <th></th>\n",
       "      <th>carat</th>\n",
       "      <th>price</th>\n",
       "    </tr>\n",
       "  </thead>\n",
       "  <tbody>\n",
       "    <tr>\n",
       "      <th>count</th>\n",
       "      <td>14743.000000</td>\n",
       "      <td>14743.000000</td>\n",
       "    </tr>\n",
       "    <tr>\n",
       "      <th>mean</th>\n",
       "      <td>0.735685</td>\n",
       "      <td>3770.019670</td>\n",
       "    </tr>\n",
       "    <tr>\n",
       "      <th>std</th>\n",
       "      <td>0.364735</td>\n",
       "      <td>3913.176215</td>\n",
       "    </tr>\n",
       "    <tr>\n",
       "      <th>min</th>\n",
       "      <td>0.500000</td>\n",
       "      <td>990.000000</td>\n",
       "    </tr>\n",
       "    <tr>\n",
       "      <th>25%</th>\n",
       "      <td>0.510000</td>\n",
       "      <td>2120.000000</td>\n",
       "    </tr>\n",
       "    <tr>\n",
       "      <th>50%</th>\n",
       "      <td>0.610000</td>\n",
       "      <td>2750.000000</td>\n",
       "    </tr>\n",
       "    <tr>\n",
       "      <th>75%</th>\n",
       "      <td>0.800000</td>\n",
       "      <td>3875.000000</td>\n",
       "    </tr>\n",
       "    <tr>\n",
       "      <th>max</th>\n",
       "      <td>4.030000</td>\n",
       "      <td>40290.000000</td>\n",
       "    </tr>\n",
       "  </tbody>\n",
       "</table>\n",
       "</div>"
      ],
      "text/plain": [
       "              carat         price\n",
       "count  14743.000000  14743.000000\n",
       "mean       0.735685   3770.019670\n",
       "std        0.364735   3913.176215\n",
       "min        0.500000    990.000000\n",
       "25%        0.510000   2120.000000\n",
       "50%        0.610000   2750.000000\n",
       "75%        0.800000   3875.000000\n",
       "max        4.030000  40290.000000"
      ]
     },
     "execution_count": 81,
     "metadata": {},
     "output_type": "execute_result"
    }
   ],
   "source": [
    "z.describe()"
   ]
  },
  {
   "cell_type": "code",
   "execution_count": 87,
   "metadata": {
    "collapsed": false
   },
   "outputs": [
    {
     "data": {
      "text/plain": [
       "[<matplotlib.lines.Line2D at 0x1271f9358>]"
      ]
     },
     "execution_count": 87,
     "metadata": {},
     "output_type": "execute_result"
    },
    {
     "data": {
      "image/png": "[encoded data removed]",
      "text/plain": [
       "<matplotlib.figure.Figure at 0x126e4e9b0>"
      ]
     },
     "metadata": {},
     "output_type": "display_data"
    }
   ],
   "source": [
    "plt.plot(z['carat'],z['price'],'+')"
   ]
  },
  {
   "cell_type": "code",
   "execution_count": 72,
   "metadata": {
    "collapsed": false
   },
   "outputs": [
    {
     "data": {
      "text/plain": [
       "<matplotlib.axes._subplots.AxesSubplot at 0x11f320c18>"
      ]
     },
     "execution_count": 72,
     "metadata": {},
     "output_type": "execute_result"
    },
    {
     "data": {
      "image/png": "[encoded data removed]",
      "text/plain": [
       "<matplotlib.figure.Figure at 0x11f61a9b0>"
      ]
     },
     "metadata": {},
     "output_type": "display_data"
    }
   ],
   "source": [
    "z.boxplot('price',by='shape')"
   ]
  },
  {
   "cell_type": "code",
   "execution_count": 73,
   "metadata": {
    "collapsed": false
   },
   "outputs": [
    {
     "data": {
      "text/plain": [
       "<matplotlib.axes._subplots.AxesSubplot at 0x11c7a7dd8>"
      ]
     },
     "execution_count": 73,
     "metadata": {},
     "output_type": "execute_result"
    },
    {
     "data": {
      "image/png": "[encoded data removed]",
      "text/plain": [
       "<matplotlib.figure.Figure at 0x121119860>"
      ]
     },
     "metadata": {},
     "output_type": "display_data"
    }
   ],
   "source": [
    "z.boxplot('price',by='cut')"
   ]
  },
  {
   "cell_type": "code",
   "execution_count": 74,
   "metadata": {
    "collapsed": false
   },
   "outputs": [
    {
     "data": {
      "text/plain": [
       "<matplotlib.axes._subplots.AxesSubplot at 0x122352f60>"
      ]
     },
     "execution_count": 74,
     "metadata": {},
     "output_type": "execute_result"
    },
    {
     "data": {
      "image/png": "[encoded data removed]",
      "text/plain": [
       "<matplotlib.figure.Figure at 0x1223f4160>"
      ]
     },
     "metadata": {},
     "output_type": "display_data"
    }
   ],
   "source": [
    "z.boxplot('price',by='color')"
   ]
  },
  {
   "cell_type": "markdown",
   "metadata": {},
   "source": [
    "## Lasso with Cross Validation (outliers removed)"
   ]
  },
  {
   "cell_type": "code",
   "execution_count": 94,
   "metadata": {
    "collapsed": false
   },
   "outputs": [
    {
     "data": {
      "text/html": [
       "<div>\n",
       "<table border=\"1\" class=\"dataframe\">\n",
       "  <thead>\n",
       "    <tr style=\"text-align: right;\">\n",
       "      <th></th>\n",
       "      <th>price</th>\n",
       "    </tr>\n",
       "  </thead>\n",
       "  <tbody>\n",
       "    <tr>\n",
       "      <th>0</th>\n",
       "      <td>1030</td>\n",
       "    </tr>\n",
       "    <tr>\n",
       "      <th>1</th>\n",
       "      <td>1060</td>\n",
       "    </tr>\n",
       "    <tr>\n",
       "      <th>2</th>\n",
       "      <td>1100</td>\n",
       "    </tr>\n",
       "    <tr>\n",
       "      <th>3</th>\n",
       "      <td>1190</td>\n",
       "    </tr>\n",
       "    <tr>\n",
       "      <th>4</th>\n",
       "      <td>1210</td>\n",
       "    </tr>\n",
       "  </tbody>\n",
       "</table>\n",
       "</div>"
      ],
      "text/plain": [
       "   price\n",
       "0   1030\n",
       "1   1060\n",
       "2   1100\n",
       "3   1190\n",
       "4   1210"
      ]
     },
     "execution_count": 94,
     "metadata": {},
     "output_type": "execute_result"
    }
   ],
   "source": [
    "data_for_regression = pd.get_dummies(z)\n",
    "data_for_regression.drop(['clarity_SI2', 'color_H', 'cut_Fair','shape_Round'], axis = 1, inplace = True)\n",
    "pricedata = pd.DataFrame.from_dict(data_for_regression['price'])\n",
    "data_for_regression.drop(['price'],axis=1,inplace=True)\n",
    "data_for_regression.columns\n",
    "pricedata.head()"
   ]
  },
  {
   "cell_type": "code",
   "execution_count": 95,
   "metadata": {
    "collapsed": false
   },
   "outputs": [
    {
     "name": "stdout",
     "output_type": "stream",
     "text": [
      "14.304561138153076\n"
     ]
    }
   ],
   "source": [
    "start_time = time.time()\n",
    "model = MultiTaskLassoCV(cv=10,fit_intercept=True).fit(data_for_regression,pricedata.values)\n",
    "end_time = time.time()\n",
    "runtime=end_time-start_time\n",
    "print(runtime)"
   ]
  },
  {
   "cell_type": "code",
   "execution_count": 96,
   "metadata": {
    "collapsed": false
   },
   "outputs": [
    {
     "data": {
      "text/html": [
       "<div>\n",
       "<table border=\"1\" class=\"dataframe\">\n",
       "  <thead>\n",
       "    <tr style=\"text-align: right;\">\n",
       "      <th></th>\n",
       "      <th>0</th>\n",
       "    </tr>\n",
       "  </thead>\n",
       "  <tbody>\n",
       "    <tr>\n",
       "      <th>carat</th>\n",
       "      <td>11327.387630</td>\n",
       "    </tr>\n",
       "    <tr>\n",
       "      <th>clarity_FL</th>\n",
       "      <td>2785.000788</td>\n",
       "    </tr>\n",
       "    <tr>\n",
       "      <th>clarity_IF</th>\n",
       "      <td>2341.706439</td>\n",
       "    </tr>\n",
       "    <tr>\n",
       "      <th>clarity_SI1</th>\n",
       "      <td>635.639509</td>\n",
       "    </tr>\n",
       "    <tr>\n",
       "      <th>clarity_VS1</th>\n",
       "      <td>1263.556756</td>\n",
       "    </tr>\n",
       "    <tr>\n",
       "      <th>clarity_VS2</th>\n",
       "      <td>1048.742876</td>\n",
       "    </tr>\n",
       "    <tr>\n",
       "      <th>clarity_VVS1</th>\n",
       "      <td>1770.570740</td>\n",
       "    </tr>\n",
       "    <tr>\n",
       "      <th>clarity_VVS2</th>\n",
       "      <td>1425.472695</td>\n",
       "    </tr>\n",
       "    <tr>\n",
       "      <th>color_D</th>\n",
       "      <td>1088.602766</td>\n",
       "    </tr>\n",
       "    <tr>\n",
       "      <th>color_E</th>\n",
       "      <td>757.050440</td>\n",
       "    </tr>\n",
       "    <tr>\n",
       "      <th>color_F</th>\n",
       "      <td>566.340640</td>\n",
       "    </tr>\n",
       "    <tr>\n",
       "      <th>color_G</th>\n",
       "      <td>279.164160</td>\n",
       "    </tr>\n",
       "    <tr>\n",
       "      <th>color_I</th>\n",
       "      <td>-665.533854</td>\n",
       "    </tr>\n",
       "    <tr>\n",
       "      <th>color_J</th>\n",
       "      <td>-1296.468026</td>\n",
       "    </tr>\n",
       "    <tr>\n",
       "      <th>cut_Good</th>\n",
       "      <td>0.000000</td>\n",
       "    </tr>\n",
       "    <tr>\n",
       "      <th>cut_Ideal</th>\n",
       "      <td>295.057550</td>\n",
       "    </tr>\n",
       "    <tr>\n",
       "      <th>cut_Super_Ideal</th>\n",
       "      <td>468.304741</td>\n",
       "    </tr>\n",
       "    <tr>\n",
       "      <th>cut_Very_Good</th>\n",
       "      <td>193.958521</td>\n",
       "    </tr>\n",
       "    <tr>\n",
       "      <th>shape_Asscher</th>\n",
       "      <td>-1667.974076</td>\n",
       "    </tr>\n",
       "    <tr>\n",
       "      <th>shape_Cushion</th>\n",
       "      <td>-1934.093611</td>\n",
       "    </tr>\n",
       "    <tr>\n",
       "      <th>shape_Emerald</th>\n",
       "      <td>-1612.046151</td>\n",
       "    </tr>\n",
       "    <tr>\n",
       "      <th>shape_Marquise</th>\n",
       "      <td>-992.044556</td>\n",
       "    </tr>\n",
       "    <tr>\n",
       "      <th>shape_Oval</th>\n",
       "      <td>-446.275800</td>\n",
       "    </tr>\n",
       "    <tr>\n",
       "      <th>shape_Pear</th>\n",
       "      <td>-845.246880</td>\n",
       "    </tr>\n",
       "    <tr>\n",
       "      <th>shape_Princess</th>\n",
       "      <td>-1400.769456</td>\n",
       "    </tr>\n",
       "  </tbody>\n",
       "</table>\n",
       "</div>"
      ],
      "text/plain": [
       "                            0\n",
       "carat            11327.387630\n",
       "clarity_FL        2785.000788\n",
       "clarity_IF        2341.706439\n",
       "clarity_SI1        635.639509\n",
       "clarity_VS1       1263.556756\n",
       "clarity_VS2       1048.742876\n",
       "clarity_VVS1      1770.570740\n",
       "clarity_VVS2      1425.472695\n",
       "color_D           1088.602766\n",
       "color_E            757.050440\n",
       "color_F            566.340640\n",
       "color_G            279.164160\n",
       "color_I           -665.533854\n",
       "color_J          -1296.468026\n",
       "cut_Good             0.000000\n",
       "cut_Ideal          295.057550\n",
       "cut_Super_Ideal    468.304741\n",
       "cut_Very_Good      193.958521\n",
       "shape_Asscher    -1667.974076\n",
       "shape_Cushion    -1934.093611\n",
       "shape_Emerald    -1612.046151\n",
       "shape_Marquise    -992.044556\n",
       "shape_Oval        -446.275800\n",
       "shape_Pear        -845.246880\n",
       "shape_Princess   -1400.769456"
      ]
     },
     "execution_count": 96,
     "metadata": {},
     "output_type": "execute_result"
    }
   ],
   "source": [
    "a = pd.DataFrame(data=model.coef_, columns = data_for_regression.columns.values )\n",
    "a.transpose()"
   ]
  },
  {
   "cell_type": "markdown",
   "metadata": {},
   "source": [
    "Commentary: None of the coefficients actually shrank to zero. Hmm..... Similar results to the OLS results below (no cross validation)."
   ]
  },
  {
   "cell_type": "markdown",
   "metadata": {},
   "source": [
    "## OLS Regressions (removed outliers)"
   ]
  },
  {
   "cell_type": "code",
   "execution_count": 91,
   "metadata": {
    "collapsed": false
   },
   "outputs": [
    {
     "data": {
      "text/html": [
       "<div>\n",
       "<table border=\"1\" class=\"dataframe\">\n",
       "  <thead>\n",
       "    <tr style=\"text-align: right;\">\n",
       "      <th></th>\n",
       "      <th>carat</th>\n",
       "      <th>price</th>\n",
       "      <th>clarity_FL</th>\n",
       "      <th>clarity_IF</th>\n",
       "      <th>clarity_SI1</th>\n",
       "      <th>clarity_VS1</th>\n",
       "      <th>clarity_VS2</th>\n",
       "      <th>clarity_VVS1</th>\n",
       "      <th>clarity_VVS2</th>\n",
       "      <th>color_D</th>\n",
       "      <th>...</th>\n",
       "      <th>cut_Ideal</th>\n",
       "      <th>cut_Super_Ideal</th>\n",
       "      <th>cut_Very_Good</th>\n",
       "      <th>shape_Asscher</th>\n",
       "      <th>shape_Cushion</th>\n",
       "      <th>shape_Emerald</th>\n",
       "      <th>shape_Marquise</th>\n",
       "      <th>shape_Oval</th>\n",
       "      <th>shape_Pear</th>\n",
       "      <th>shape_Princess</th>\n",
       "    </tr>\n",
       "  </thead>\n",
       "  <tbody>\n",
       "    <tr>\n",
       "      <th>0</th>\n",
       "      <td>0.55</td>\n",
       "      <td>1030</td>\n",
       "      <td>0</td>\n",
       "      <td>0</td>\n",
       "      <td>1</td>\n",
       "      <td>0</td>\n",
       "      <td>0</td>\n",
       "      <td>0</td>\n",
       "      <td>0</td>\n",
       "      <td>0</td>\n",
       "      <td>...</td>\n",
       "      <td>0</td>\n",
       "      <td>0</td>\n",
       "      <td>0</td>\n",
       "      <td>0</td>\n",
       "      <td>0</td>\n",
       "      <td>0</td>\n",
       "      <td>0</td>\n",
       "      <td>1</td>\n",
       "      <td>0</td>\n",
       "      <td>0</td>\n",
       "    </tr>\n",
       "    <tr>\n",
       "      <th>1</th>\n",
       "      <td>0.51</td>\n",
       "      <td>1060</td>\n",
       "      <td>0</td>\n",
       "      <td>0</td>\n",
       "      <td>0</td>\n",
       "      <td>1</td>\n",
       "      <td>0</td>\n",
       "      <td>0</td>\n",
       "      <td>0</td>\n",
       "      <td>0</td>\n",
       "      <td>...</td>\n",
       "      <td>0</td>\n",
       "      <td>0</td>\n",
       "      <td>0</td>\n",
       "      <td>0</td>\n",
       "      <td>0</td>\n",
       "      <td>0</td>\n",
       "      <td>0</td>\n",
       "      <td>1</td>\n",
       "      <td>0</td>\n",
       "      <td>0</td>\n",
       "    </tr>\n",
       "    <tr>\n",
       "      <th>2</th>\n",
       "      <td>0.51</td>\n",
       "      <td>1100</td>\n",
       "      <td>0</td>\n",
       "      <td>0</td>\n",
       "      <td>1</td>\n",
       "      <td>0</td>\n",
       "      <td>0</td>\n",
       "      <td>0</td>\n",
       "      <td>0</td>\n",
       "      <td>0</td>\n",
       "      <td>...</td>\n",
       "      <td>0</td>\n",
       "      <td>0</td>\n",
       "      <td>1</td>\n",
       "      <td>0</td>\n",
       "      <td>0</td>\n",
       "      <td>0</td>\n",
       "      <td>0</td>\n",
       "      <td>1</td>\n",
       "      <td>0</td>\n",
       "      <td>0</td>\n",
       "    </tr>\n",
       "    <tr>\n",
       "      <th>3</th>\n",
       "      <td>0.50</td>\n",
       "      <td>1190</td>\n",
       "      <td>0</td>\n",
       "      <td>0</td>\n",
       "      <td>0</td>\n",
       "      <td>0</td>\n",
       "      <td>0</td>\n",
       "      <td>0</td>\n",
       "      <td>0</td>\n",
       "      <td>0</td>\n",
       "      <td>...</td>\n",
       "      <td>0</td>\n",
       "      <td>0</td>\n",
       "      <td>0</td>\n",
       "      <td>0</td>\n",
       "      <td>0</td>\n",
       "      <td>0</td>\n",
       "      <td>0</td>\n",
       "      <td>1</td>\n",
       "      <td>0</td>\n",
       "      <td>0</td>\n",
       "    </tr>\n",
       "    <tr>\n",
       "      <th>4</th>\n",
       "      <td>0.50</td>\n",
       "      <td>1210</td>\n",
       "      <td>0</td>\n",
       "      <td>0</td>\n",
       "      <td>1</td>\n",
       "      <td>0</td>\n",
       "      <td>0</td>\n",
       "      <td>0</td>\n",
       "      <td>0</td>\n",
       "      <td>0</td>\n",
       "      <td>...</td>\n",
       "      <td>1</td>\n",
       "      <td>0</td>\n",
       "      <td>0</td>\n",
       "      <td>0</td>\n",
       "      <td>0</td>\n",
       "      <td>0</td>\n",
       "      <td>0</td>\n",
       "      <td>1</td>\n",
       "      <td>0</td>\n",
       "      <td>0</td>\n",
       "    </tr>\n",
       "  </tbody>\n",
       "</table>\n",
       "<p>5 rows × 26 columns</p>\n",
       "</div>"
      ],
      "text/plain": [
       "   carat  price  clarity_FL  clarity_IF  clarity_SI1  clarity_VS1  \\\n",
       "0   0.55   1030           0           0            1            0   \n",
       "1   0.51   1060           0           0            0            1   \n",
       "2   0.51   1100           0           0            1            0   \n",
       "3   0.50   1190           0           0            0            0   \n",
       "4   0.50   1210           0           0            1            0   \n",
       "\n",
       "   clarity_VS2  clarity_VVS1  clarity_VVS2  color_D       ...        \\\n",
       "0            0             0             0        0       ...         \n",
       "1            0             0             0        0       ...         \n",
       "2            0             0             0        0       ...         \n",
       "3            0             0             0        0       ...         \n",
       "4            0             0             0        0       ...         \n",
       "\n",
       "   cut_Ideal  cut_Super_Ideal  cut_Very_Good  shape_Asscher  shape_Cushion  \\\n",
       "0          0                0              0              0              0   \n",
       "1          0                0              0              0              0   \n",
       "2          0                0              1              0              0   \n",
       "3          0                0              0              0              0   \n",
       "4          1                0              0              0              0   \n",
       "\n",
       "   shape_Emerald  shape_Marquise  shape_Oval  shape_Pear  shape_Princess  \n",
       "0              0               0           1           0               0  \n",
       "1              0               0           1           0               0  \n",
       "2              0               0           1           0               0  \n",
       "3              0               0           1           0               0  \n",
       "4              0               0           1           0               0  \n",
       "\n",
       "[5 rows x 26 columns]"
      ]
     },
     "execution_count": 91,
     "metadata": {},
     "output_type": "execute_result"
    }
   ],
   "source": [
    "data_for_regression = pd.get_dummies(z)\n",
    "data_for_regression.drop(['clarity_SI2', 'color_H', 'cut_Fair','shape_Round'], axis = 1, inplace = True)\n",
    "data_for_regression.head()"
   ]
  },
  {
   "cell_type": "markdown",
   "metadata": {},
   "source": [
    "Create dummy variables for the categorical variables: clarity, color, cut, shape. I dropped one of each category in order to make the coefficients more meaningful."
   ]
  },
  {
   "cell_type": "markdown",
   "metadata": {},
   "source": [
    "Created a standard OLS regression using the ols function of the statsmodels library. Note that I used a several interaction terms as well as a quadratic term on carat size. Observations:\n",
    "+ carat size matters **immensely**\n",
    "+ huge jump between F color and the better ones (D&E).\n",
    "+ Round diamonds command a sizable premium over every other kind of shape ('Round' was the ommitted dummy for the shape categorical variable).\n",
    "\n",
    "Fidelity of results:\n",
    "+ Everything came through as significant, which is a bit worrisome.\n",
    "+ solid adjusted R^2 even with 21 degrees of freedom.\n",
    "+ good F statistic values (I think)\n",
    "\n",
    "My conclusions for this: Avoid round diamonds. If you need to make a tradeoff you can probably skimp on color (anyone who can tell the difference between D and E is a liar and you should call them out on it). "
   ]
  },
  {
   "cell_type": "code",
   "execution_count": 93,
   "metadata": {
    "collapsed": false
   },
   "outputs": [
    {
     "data": {
      "text/html": [
       "<table class=\"simpletable\">\n",
       "<caption>OLS Regression Results</caption>\n",
       "<tr>\n",
       "  <th>Dep. Variable:</th>          <td>price</td>      <th>  R-squared:         </th>  <td>   0.905</td>  \n",
       "</tr>\n",
       "<tr>\n",
       "  <th>Model:</th>                   <td>OLS</td>       <th>  Adj. R-squared:    </th>  <td>   0.905</td>  \n",
       "</tr>\n",
       "<tr>\n",
       "  <th>Method:</th>             <td>Least Squares</td>  <th>  F-statistic:       </th>  <td>   6701.</td>  \n",
       "</tr>\n",
       "<tr>\n",
       "  <th>Date:</th>             <td>Sat, 04 Jun 2016</td> <th>  Prob (F-statistic):</th>   <td>  0.00</td>   \n",
       "</tr>\n",
       "<tr>\n",
       "  <th>Time:</th>                 <td>20:31:02</td>     <th>  Log-Likelihood:    </th> <td>-1.2550e+05</td>\n",
       "</tr>\n",
       "<tr>\n",
       "  <th>No. Observations:</th>      <td> 14743</td>      <th>  AIC:               </th>  <td>2.510e+05</td> \n",
       "</tr>\n",
       "<tr>\n",
       "  <th>Df Residuals:</th>          <td> 14721</td>      <th>  BIC:               </th>  <td>2.512e+05</td> \n",
       "</tr>\n",
       "<tr>\n",
       "  <th>Df Model:</th>              <td>    21</td>      <th>                     </th>      <td> </td>     \n",
       "</tr>\n",
       "<tr>\n",
       "  <th>Covariance Type:</th>      <td>nonrobust</td>    <th>                     </th>      <td> </td>     \n",
       "</tr>\n",
       "</table>\n",
       "<table class=\"simpletable\">\n",
       "<tr>\n",
       "         <td></td>            <th>coef</th>     <th>std err</th>      <th>t</th>      <th>P>|t|</th> <th>[95.0% Conf. Int.]</th> \n",
       "</tr>\n",
       "<tr>\n",
       "  <th>Intercept</th>       <td>-6097.7087</td> <td>  113.345</td> <td>  -53.798</td> <td> 0.000</td> <td>-6319.880 -5875.538</td>\n",
       "</tr>\n",
       "<tr>\n",
       "  <th>carat</th>           <td> 1.129e+04</td> <td>   33.563</td> <td>  336.395</td> <td> 0.000</td> <td> 1.12e+04  1.14e+04</td>\n",
       "</tr>\n",
       "<tr>\n",
       "  <th>clarity_IF</th>      <td> 1625.8368</td> <td>   62.695</td> <td>   25.932</td> <td> 0.000</td> <td> 1502.947  1748.727</td>\n",
       "</tr>\n",
       "<tr>\n",
       "  <th>clarity_SI1</th>     <td> -116.6332</td> <td>   28.996</td> <td>   -4.022</td> <td> 0.000</td> <td> -173.468   -59.798</td>\n",
       "</tr>\n",
       "<tr>\n",
       "  <th>clarity_VS1</th>     <td>  506.5748</td> <td>   27.931</td> <td>   18.137</td> <td> 0.000</td> <td>  451.827   561.323</td>\n",
       "</tr>\n",
       "<tr>\n",
       "  <th>clarity_VVS1</th>    <td>  998.9638</td> <td>   36.232</td> <td>   27.571</td> <td> 0.000</td> <td>  927.944  1069.984</td>\n",
       "</tr>\n",
       "<tr>\n",
       "  <th>clarity_VVS2</th>    <td>  671.0460</td> <td>   31.019</td> <td>   21.633</td> <td> 0.000</td> <td>  610.244   731.848</td>\n",
       "</tr>\n",
       "<tr>\n",
       "  <th>color_D</th>         <td> 1611.2825</td> <td>   32.812</td> <td>   49.106</td> <td> 0.000</td> <td> 1546.967  1675.598</td>\n",
       "</tr>\n",
       "<tr>\n",
       "  <th>color_E</th>         <td> 1263.1090</td> <td>   29.281</td> <td>   43.138</td> <td> 0.000</td> <td> 1205.715  1320.503</td>\n",
       "</tr>\n",
       "<tr>\n",
       "  <th>color_F</th>         <td> 1061.8081</td> <td>   29.349</td> <td>   36.178</td> <td> 0.000</td> <td> 1004.280  1119.336</td>\n",
       "</tr>\n",
       "<tr>\n",
       "  <th>color_G</th>         <td>  770.4060</td> <td>   30.885</td> <td>   24.944</td> <td> 0.000</td> <td>  709.868   830.945</td>\n",
       "</tr>\n",
       "<tr>\n",
       "  <th>cut_Good</th>        <td>  469.0588</td> <td>  116.739</td> <td>    4.018</td> <td> 0.000</td> <td>  240.236   697.882</td>\n",
       "</tr>\n",
       "<tr>\n",
       "  <th>cut_Very_Good</th>   <td>  743.0034</td> <td>  109.740</td> <td>    6.771</td> <td> 0.000</td> <td>  527.899   958.108</td>\n",
       "</tr>\n",
       "<tr>\n",
       "  <th>cut_Ideal</th>       <td>  807.7369</td> <td>  110.305</td> <td>    7.323</td> <td> 0.000</td> <td>  591.525  1023.949</td>\n",
       "</tr>\n",
       "<tr>\n",
       "  <th>cut_Super_Ideal</th> <td>  998.7734</td> <td>  109.753</td> <td>    9.100</td> <td> 0.000</td> <td>  783.643  1213.904</td>\n",
       "</tr>\n",
       "<tr>\n",
       "  <th>shape_Asscher</th>   <td>-1624.7190</td> <td>   69.006</td> <td>  -23.545</td> <td> 0.000</td> <td>-1759.980 -1489.458</td>\n",
       "</tr>\n",
       "<tr>\n",
       "  <th>shape_Cushion</th>   <td>-2006.3439</td> <td>   48.264</td> <td>  -41.571</td> <td> 0.000</td> <td>-2100.947 -1911.741</td>\n",
       "</tr>\n",
       "<tr>\n",
       "  <th>shape_Emerald</th>   <td>-1630.1276</td> <td>   46.934</td> <td>  -34.732</td> <td> 0.000</td> <td>-1722.125 -1538.130</td>\n",
       "</tr>\n",
       "<tr>\n",
       "  <th>shape_Marquise</th>  <td>-1260.1271</td> <td>  113.146</td> <td>  -11.137</td> <td> 0.000</td> <td>-1481.908 -1038.346</td>\n",
       "</tr>\n",
       "<tr>\n",
       "  <th>shape_Oval</th>      <td> -552.4339</td> <td>   63.642</td> <td>   -8.680</td> <td> 0.000</td> <td> -677.181  -427.687</td>\n",
       "</tr>\n",
       "<tr>\n",
       "  <th>shape_Pear</th>      <td> -931.8762</td> <td>   51.620</td> <td>  -18.053</td> <td> 0.000</td> <td>-1033.057  -830.695</td>\n",
       "</tr>\n",
       "<tr>\n",
       "  <th>shape_Princess</th>  <td>-1443.4809</td> <td>   37.771</td> <td>  -38.217</td> <td> 0.000</td> <td>-1517.516 -1369.446</td>\n",
       "</tr>\n",
       "</table>\n",
       "<table class=\"simpletable\">\n",
       "<tr>\n",
       "  <th>Omnibus:</th>       <td>12431.116</td> <th>  Durbin-Watson:     </th>  <td>   1.020</td>  \n",
       "</tr>\n",
       "<tr>\n",
       "  <th>Prob(Omnibus):</th>  <td> 0.000</td>   <th>  Jarque-Bera (JB):  </th> <td>1110314.628</td>\n",
       "</tr>\n",
       "<tr>\n",
       "  <th>Skew:</th>           <td> 3.553</td>   <th>  Prob(JB):          </th>  <td>    0.00</td>  \n",
       "</tr>\n",
       "<tr>\n",
       "  <th>Kurtosis:</th>       <td>44.916</td>   <th>  Cond. No.          </th>  <td>    36.2</td>  \n",
       "</tr>\n",
       "</table>"
      ],
      "text/plain": [
       "<class 'statsmodels.iolib.summary.Summary'>\n",
       "\"\"\"\n",
       "                            OLS Regression Results                            \n",
       "==============================================================================\n",
       "Dep. Variable:                  price   R-squared:                       0.905\n",
       "Model:                            OLS   Adj. R-squared:                  0.905\n",
       "Method:                 Least Squares   F-statistic:                     6701.\n",
       "Date:                Sat, 04 Jun 2016   Prob (F-statistic):               0.00\n",
       "Time:                        20:31:02   Log-Likelihood:            -1.2550e+05\n",
       "No. Observations:               14743   AIC:                         2.510e+05\n",
       "Df Residuals:                   14721   BIC:                         2.512e+05\n",
       "Df Model:                          21                                         \n",
       "Covariance Type:            nonrobust                                         \n",
       "===================================================================================\n",
       "                      coef    std err          t      P>|t|      [95.0% Conf. Int.]\n",
       "-----------------------------------------------------------------------------------\n",
       "Intercept       -6097.7087    113.345    -53.798      0.000     -6319.880 -5875.538\n",
       "carat            1.129e+04     33.563    336.395      0.000      1.12e+04  1.14e+04\n",
       "clarity_IF       1625.8368     62.695     25.932      0.000      1502.947  1748.727\n",
       "clarity_SI1      -116.6332     28.996     -4.022      0.000      -173.468   -59.798\n",
       "clarity_VS1       506.5748     27.931     18.137      0.000       451.827   561.323\n",
       "clarity_VVS1      998.9638     36.232     27.571      0.000       927.944  1069.984\n",
       "clarity_VVS2      671.0460     31.019     21.633      0.000       610.244   731.848\n",
       "color_D          1611.2825     32.812     49.106      0.000      1546.967  1675.598\n",
       "color_E          1263.1090     29.281     43.138      0.000      1205.715  1320.503\n",
       "color_F          1061.8081     29.349     36.178      0.000      1004.280  1119.336\n",
       "color_G           770.4060     30.885     24.944      0.000       709.868   830.945\n",
       "cut_Good          469.0588    116.739      4.018      0.000       240.236   697.882\n",
       "cut_Very_Good     743.0034    109.740      6.771      0.000       527.899   958.108\n",
       "cut_Ideal         807.7369    110.305      7.323      0.000       591.525  1023.949\n",
       "cut_Super_Ideal   998.7734    109.753      9.100      0.000       783.643  1213.904\n",
       "shape_Asscher   -1624.7190     69.006    -23.545      0.000     -1759.980 -1489.458\n",
       "shape_Cushion   -2006.3439     48.264    -41.571      0.000     -2100.947 -1911.741\n",
       "shape_Emerald   -1630.1276     46.934    -34.732      0.000     -1722.125 -1538.130\n",
       "shape_Marquise  -1260.1271    113.146    -11.137      0.000     -1481.908 -1038.346\n",
       "shape_Oval       -552.4339     63.642     -8.680      0.000      -677.181  -427.687\n",
       "shape_Pear       -931.8762     51.620    -18.053      0.000     -1033.057  -830.695\n",
       "shape_Princess  -1443.4809     37.771    -38.217      0.000     -1517.516 -1369.446\n",
       "==============================================================================\n",
       "Omnibus:                    12431.116   Durbin-Watson:                   1.020\n",
       "Prob(Omnibus):                  0.000   Jarque-Bera (JB):          1110314.628\n",
       "Skew:                           3.553   Prob(JB):                         0.00\n",
       "Kurtosis:                      44.916   Cond. No.                         36.2\n",
       "==============================================================================\n",
       "\n",
       "Warnings:\n",
       "[1] Standard Errors assume that the covariance matrix of the errors is correctly specified.\n",
       "\"\"\""
      ]
     },
     "execution_count": 93,
     "metadata": {},
     "output_type": "execute_result"
    }
   ],
   "source": [
    "lm_outliers_removed = smf.ols(formula= 'price ~ carat \\\n",
    "                        + clarity_IF + clarity_SI1 + clarity_VS1 + clarity_VS1 + clarity_VVS1 + clarity_VVS2 \\\n",
    "                        + color_D +color_E + color_F + color_G \\\n",
    "                        + cut_Good + cut_Very_Good + cut_Ideal + cut_Super_Ideal \\\n",
    "                        + shape_Asscher + shape_Cushion + shape_Emerald + shape_Marquise \\\n",
    "                        + shape_Oval + shape_Pear + shape_Princess' , data=data_for_regression).fit()\n",
    "lm_outliers_removed.summary()"
   ]
  },
  {
   "cell_type": "markdown",
   "metadata": {},
   "source": [
    "The below represents some sandbox work I've been doing to do some cross validation and explore the effect of chunking the dataset into test and training parts. Was specifically interested in MSE as a function of test/train split size. Kinda funky results, but generally what I expected.\n",
    "\n",
    "**NOTE**: I would modify the range size if you are working on a slower machine. I ran each regression a thousand times but you could probably get away with much, much less."
   ]
  },
  {
   "cell_type": "code",
   "execution_count": 130,
   "metadata": {
    "collapsed": false
   },
   "outputs": [],
   "source": [
    "X = data_for_regression.drop('price', axis = 1)\n",
    "y = data_for_regression['price']\n",
    "test_size_range = list(np.arange(0.05,1,0.05))\n",
    "answer_list = list()\n",
    "\n",
    "for t in test_size_range:\n",
    "    for i in range(0,1000):\n",
    "        test_list = list()\n",
    "        for_analysis = pd.DataFrame()\n",
    "        X_train, X_test, y_train, y_test = train_test_split(X,y,test_size= t)\n",
    "        test_results = smf.OLS(y_train, X_train).fit()\n",
    "        y_test_predict = test_results.predict(X_test)\n",
    "        for_analysis = pd.DataFrame({'y_test' : y_test, \n",
    "                                 'y_test_hat' : y_test_predict})\n",
    "        for_analysis['error'] = for_analysis['y_test_hat'] - for_analysis['y_test']\n",
    "        n = len(for_analysis.index)\n",
    "        for_analysis['Squared Error'] = for_analysis['error']**2\n",
    "        MSE = sum(for_analysis['Squared Error']) / n\n",
    "        test_list.append(MSE)\n",
    "    ans = sum(test_list) / len(test_list)\n",
    "    answer_list.append(ans)"
   ]
  },
  {
   "cell_type": "code",
   "execution_count": 131,
   "metadata": {
    "collapsed": false
   },
   "outputs": [
    {
     "data": {
      "text/plain": [
       "<matplotlib.legend.Legend at 0x1101dacf8>"
      ]
     },
     "execution_count": 131,
     "metadata": {},
     "output_type": "execute_result"
    },
    {
     "data": {
      "image/png": "[encoded data removed]",
      "text/plain": [
       "<matplotlib.figure.Figure at 0x10fe879e8>"
      ]
     },
     "metadata": {},
     "output_type": "display_data"
    }
   ],
   "source": [
    "%matplotlib inline\n",
    "\n",
    "fig, ax = plt.subplots(figsize=(8,6))\n",
    "\n",
    "ax.plot(test_size_range, answer_list, 'b-', label = 'MSE')\n",
    "plt.xlabel('Testing Size of Dataset')\n",
    "plt.ylabel('MSE')\n",
    "ax.legend(loc='best')"
   ]
  },
  {
   "cell_type": "markdown",
   "metadata": {},
   "source": [
    "Trying to execute a similar process for the blue nile website. Their API is super f-cking clunky and I haven't made much progress."
   ]
  },
  {
   "cell_type": "code",
   "execution_count": 4,
   "metadata": {
    "collapsed": false
   },
   "outputs": [],
   "source": [
    "start_pos = 0\n",
    "page_results = 1000\n",
    "n_total = 162500\n",
    "n_max = math.floor(n_total/page_results)\n",
    "\n",
    "\n",
    "color_bn = list()\n",
    "cut_bn = list()\n",
    "price_bn = list()\n",
    "clarity_bn = list()\n",
    "carat_bn = list()\n",
    "\n",
    "\n",
    "#for i in range(0,3):\n",
    "#   url_blue_nile = \"http://www.bluenile.com/api/public/build-your-own-ring/diamond-search-grid/solr?country=USA&language=en-us&currency=USD&startIndex=\" + str(10000) + \"&pageSize=\" + str(page_results) + \"&sortColumn=price&sortDirection=asc&_=1456107481571\"\n",
    "#    r = requests.get(url_blue_nile)\n",
    "#    data = json.loads(r.text)\n",
    "#    data = data['results']\n",
    "#    for j in data:\n",
    "#        carat_bn.append(j['carat'])\n",
    "#    data = []\n",
    "#diamonds = data['diamonds']\n",
    "#data_test = json.loads(r.text)\n",
    "#data_test = data_test['diamonds']\n",
    "#data = data['results']\n",
    "#data"
   ]
  },
  {
   "cell_type": "code",
   "execution_count": 4,
   "metadata": {
    "collapsed": true
   },
   "outputs": [],
   "source": [
    "#Created a quick mapping so that the cut categorical variables would map correctly when using the .get_dummies function from pandas.\n",
    "    \n",
    "def cut_to_dummy(x):\n",
    "    if x == \"Very Good\":\n",
    "        return \"Very_Good\"\n",
    "    if x == \"Super Ideal\":\n",
    "        return \"Super_Ideal\"\n",
    "    else:\n",
    "        return x"
   ]
  },
  {
   "cell_type": "code",
   "execution_count": 100,
   "metadata": {
    "collapsed": false
   },
   "outputs": [
    {
     "ename": "SyntaxError",
     "evalue": "invalid syntax (<ipython-input-100-55a6417a05e0>, line 1)",
     "output_type": "error",
     "traceback": [
      "\u001b[0;36m  File \u001b[0;32m\"<ipython-input-100-55a6417a05e0>\"\u001b[0;36m, line \u001b[0;32m1\u001b[0m\n\u001b[0;31m    $jupyter nbconvert \"Explorations in diamond pricing.ipynb\"\u001b[0m\n\u001b[0m    ^\u001b[0m\n\u001b[0;31mSyntaxError\u001b[0m\u001b[0;31m:\u001b[0m invalid syntax\n"
     ]
    }
   ],
   "source": [
    "$jupyter nbconvert \"Explorations in diamond pricing.ipynb\""
   ]
  }
 ],
 "metadata": {
  "kernelspec": {
   "display_name": "Python 3",
   "language": "python",
   "name": "python3"
  },
  "language_info": {
   "codemirror_mode": {
    "name": "ipython",
    "version": 3
   },
   "file_extension": ".py",
   "mimetype": "text/x-python",
   "name": "python",
   "nbconvert_exporter": "python",
   "pygments_lexer": "ipython3",
   "version": "3.4.4"
  }
 },
 "nbformat": 4,
 "nbformat_minor": 0
}
